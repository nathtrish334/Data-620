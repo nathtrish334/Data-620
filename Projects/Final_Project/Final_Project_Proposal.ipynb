{
  "nbformat": 4,
  "nbformat_minor": 0,
  "metadata": {
    "colab": {
      "name": "Final_Project_Proposal.ipynb",
      "provenance": [],
      "collapsed_sections": []
    },
    "kernelspec": {
      "name": "python3",
      "display_name": "Python 3"
    },
    "language_info": {
      "name": "python"
    }
  },
  "cells": [
    {
      "cell_type": "markdown",
      "source": [
        "\n",
        "# Final project Proposal\n",
        "\n",
        "**Trishita Nath**\n",
        "\n",
        "I will be performing text processing using datasets from the paper *Flavor network and the principles of food pairing*. There are two datasets that can be downloaded [here](https://www.nature.com/articles/srep00196#Sec8)\n",
        "\n",
        "I will be examining the similarities and differences between world cuisines to understand the human eating behaviors across cultures and continents.\n",
        "\n",
        "My hypothesis is that there are statistical differences across cultures, continents and cuisines with regards to food incredients. \n",
        "\n",
        "Some of the ideas that I will use for my analysis include:\n",
        "\n",
        "*  Text analysis to determine the most common ingredients across cuisines.\n",
        "*  Using a bipartite network to show differences and commonalities between cuisines. Cuisines and ingredients will be the nodes.\n",
        "*  Analysis of the average number of ingredients per recipe by cuisine.\n",
        "*  Analysis of unique pairs of ingredients in each recipe.\n",
        "\n",
        "\n"
      ],
      "metadata": {
        "id": "0GDbEofzN2Rz"
      }
    }
  ]
}