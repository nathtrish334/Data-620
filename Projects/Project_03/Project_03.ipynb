{
  "nbformat": 4,
  "nbformat_minor": 0,
  "metadata": {
    "colab": {
      "name": "Project_03.ipynb",
      "provenance": [],
      "collapsed_sections": []
    },
    "kernelspec": {
      "name": "python3",
      "display_name": "Python 3"
    },
    "language_info": {
      "name": "python"
    }
  },
  "cells": [
    {
      "cell_type": "markdown",
      "source": [
        "# Project 02"
      ],
      "metadata": {
        "id": "3DTMKHVwe0Vn"
      }
    },
    {
      "cell_type": "markdown",
      "source": [
        "## Trishita Nath"
      ],
      "metadata": {
        "id": "XyFKK3WFLYc_"
      }
    },
    {
      "cell_type": "markdown",
      "source": [
        "## Project Overview\n",
        "\n",
        "Using any of the three classifiers described in chapter 6 of Natural Language Processing with Python, and any features you can think of, build the best name gender classifier you can. Begin by splitting the Names Corpus into three subsets: 500 words for the test set, 500 words for the dev-test set, and the remaining 6900 words for the training set. Then, starting with the example name gender classifier, make incremental improvements. Use the dev-test set to check your progress. Once you are satisfied with your classifier, check its final performance on the test set. How does the performance on the test set compare to the performance on the dev-test set? Is this what you'd expect?\n"
      ],
      "metadata": {
        "id": "jMCxSTUAe3Be"
      }
    },
    {
      "cell_type": "markdown",
      "source": [
        "## Data Loading"
      ],
      "metadata": {
        "id": "RNiuOOmp05--"
      }
    },
    {
      "cell_type": "code",
      "source": [
        "# Load packages\n",
        "import sys\n",
        "!{sys.executable} -m pip install -U nltk==3.7\n",
        "import random\n",
        "from collections import Counter\n",
        "import nltk\n",
        "from nltk import download\n",
        "from nltk.corpus import names\n",
        "from nltk.util import ngrams\n",
        "#from nltk.tokenize.sonority_sequencing import SyllableTokenizer\n",
        "from nltk import word_tokenize\n",
        "from nltk.tokenize import SyllableTokenizer\n",
        "#from nltk.tokenize import *\n",
        "from nltk import NaiveBayesClassifier\n",
        "import matplotlib.pyplot as plt\n",
        "import seaborn as sns\n",
        "import string\n",
        "import re\n",
        "\n",
        "import pandas as pd\n",
        "import numpy as np\n",
        "\n",
        "# jupyter setup\n",
        "from IPython.core.interactiveshell import InteractiveShell\n",
        "InteractiveShell.ast_node_interactivity = \"all\""
      ],
      "metadata": {
        "id": "zsz8yW5BxoHh",
        "colab": {
          "base_uri": "https://localhost:8080/"
        },
        "outputId": "c2da15fe-0c00-42be-8368-59cd35847b51"
      },
      "execution_count": 71,
      "outputs": [
        {
          "output_type": "stream",
          "name": "stdout",
          "text": [
            "Requirement already satisfied: nltk==3.7 in /usr/local/lib/python3.7/dist-packages (3.7)\n",
            "Requirement already satisfied: click in /usr/local/lib/python3.7/dist-packages (from nltk==3.7) (7.1.2)\n",
            "Requirement already satisfied: tqdm in /usr/local/lib/python3.7/dist-packages (from nltk==3.7) (4.63.0)\n",
            "Requirement already satisfied: joblib in /usr/local/lib/python3.7/dist-packages (from nltk==3.7) (1.1.0)\n",
            "Requirement already satisfied: regex>=2021.8.3 in /usr/local/lib/python3.7/dist-packages (from nltk==3.7) (2022.3.15)\n"
          ]
        }
      ]
    },
    {
      "cell_type": "code",
      "source": [
        "nltk.__version__"
      ],
      "metadata": {
        "colab": {
          "base_uri": "https://localhost:8080/",
          "height": 35
        },
        "id": "Hj_nfsek265T",
        "outputId": "21e07921-e17f-4484-8084-88255cbdb01d"
      },
      "execution_count": 72,
      "outputs": [
        {
          "output_type": "execute_result",
          "data": {
            "text/plain": [
              "'3.7'"
            ],
            "application/vnd.google.colaboratory.intrinsic+json": {
              "type": "string"
            }
          },
          "metadata": {},
          "execution_count": 72
        }
      ]
    },
    {
      "cell_type": "code",
      "source": [
        "# .\n",
        "# loading the corpus into memory\n",
        "download('names')\n",
        "# convert names to lowercase for easy recognition\n",
        "males = [name.lower().strip() for name in names.words('male.txt')]\n",
        "females = [name.lower().strip() for name in names.words('female.txt')]\n",
        "\n",
        "#Remove unisex names from each list to avoid compromising accuracy of the model\n",
        "\n",
        "unisex = list(set(males) & set(females))\n",
        "[males.remove(name) for name in unisex]\n",
        "[females.remove(name) for name in unisex]\n",
        "\n",
        "# Add sex labels to the names.\n",
        "males = [(name,'male') for name in males]\n",
        "females = [(name,'female') for name in females]\n",
        "\n",
        "# combine lists of names\n",
        "all_names = males + females\n",
        "\n",
        "# Randomize the names to ensure the training/test sets contain both genders\n",
        "random.seed(13)\n",
        "random.shuffle(all_names)"
      ],
      "metadata": {
        "colab": {
          "base_uri": "https://localhost:8080/"
        },
        "id": "lYiCkcUXydOu",
        "outputId": "037a2e93-5c7c-43df-d48e-392c23974cd8"
      },
      "execution_count": 73,
      "outputs": [
        {
          "output_type": "stream",
          "name": "stderr",
          "text": [
            "[nltk_data] Downloading package names to /root/nltk_data...\n",
            "[nltk_data]   Package names is already up-to-date!\n"
          ]
        },
        {
          "output_type": "execute_result",
          "data": {
            "text/plain": [
              "True"
            ]
          },
          "metadata": {},
          "execution_count": 73
        },
        {
          "output_type": "execute_result",
          "data": {
            "text/plain": [
              "[None,\n",
              " None,\n",
              " None,\n",
              " None,\n",
              " None,\n",
              " None,\n",
              " None,\n",
              " None,\n",
              " None,\n",
              " None,\n",
              " None,\n",
              " None,\n",
              " None,\n",
              " None,\n",
              " None,\n",
              " None,\n",
              " None,\n",
              " None,\n",
              " None,\n",
              " None,\n",
              " None,\n",
              " None,\n",
              " None,\n",
              " None,\n",
              " None,\n",
              " None,\n",
              " None,\n",
              " None,\n",
              " None,\n",
              " None,\n",
              " None,\n",
              " None,\n",
              " None,\n",
              " None,\n",
              " None,\n",
              " None,\n",
              " None,\n",
              " None,\n",
              " None,\n",
              " None,\n",
              " None,\n",
              " None,\n",
              " None,\n",
              " None,\n",
              " None,\n",
              " None,\n",
              " None,\n",
              " None,\n",
              " None,\n",
              " None,\n",
              " None,\n",
              " None,\n",
              " None,\n",
              " None,\n",
              " None,\n",
              " None,\n",
              " None,\n",
              " None,\n",
              " None,\n",
              " None,\n",
              " None,\n",
              " None,\n",
              " None,\n",
              " None,\n",
              " None,\n",
              " None,\n",
              " None,\n",
              " None,\n",
              " None,\n",
              " None,\n",
              " None,\n",
              " None,\n",
              " None,\n",
              " None,\n",
              " None,\n",
              " None,\n",
              " None,\n",
              " None,\n",
              " None,\n",
              " None,\n",
              " None,\n",
              " None,\n",
              " None,\n",
              " None,\n",
              " None,\n",
              " None,\n",
              " None,\n",
              " None,\n",
              " None,\n",
              " None,\n",
              " None,\n",
              " None,\n",
              " None,\n",
              " None,\n",
              " None,\n",
              " None,\n",
              " None,\n",
              " None,\n",
              " None,\n",
              " None,\n",
              " None,\n",
              " None,\n",
              " None,\n",
              " None,\n",
              " None,\n",
              " None,\n",
              " None,\n",
              " None,\n",
              " None,\n",
              " None,\n",
              " None,\n",
              " None,\n",
              " None,\n",
              " None,\n",
              " None,\n",
              " None,\n",
              " None,\n",
              " None,\n",
              " None,\n",
              " None,\n",
              " None,\n",
              " None,\n",
              " None,\n",
              " None,\n",
              " None,\n",
              " None,\n",
              " None,\n",
              " None,\n",
              " None,\n",
              " None,\n",
              " None,\n",
              " None,\n",
              " None,\n",
              " None,\n",
              " None,\n",
              " None,\n",
              " None,\n",
              " None,\n",
              " None,\n",
              " None,\n",
              " None,\n",
              " None,\n",
              " None,\n",
              " None,\n",
              " None,\n",
              " None,\n",
              " None,\n",
              " None,\n",
              " None,\n",
              " None,\n",
              " None,\n",
              " None,\n",
              " None,\n",
              " None,\n",
              " None,\n",
              " None,\n",
              " None,\n",
              " None,\n",
              " None,\n",
              " None,\n",
              " None,\n",
              " None,\n",
              " None,\n",
              " None,\n",
              " None,\n",
              " None,\n",
              " None,\n",
              " None,\n",
              " None,\n",
              " None,\n",
              " None,\n",
              " None,\n",
              " None,\n",
              " None,\n",
              " None,\n",
              " None,\n",
              " None,\n",
              " None,\n",
              " None,\n",
              " None,\n",
              " None,\n",
              " None,\n",
              " None,\n",
              " None,\n",
              " None,\n",
              " None,\n",
              " None,\n",
              " None,\n",
              " None,\n",
              " None,\n",
              " None,\n",
              " None,\n",
              " None,\n",
              " None,\n",
              " None,\n",
              " None,\n",
              " None,\n",
              " None,\n",
              " None,\n",
              " None,\n",
              " None,\n",
              " None,\n",
              " None,\n",
              " None,\n",
              " None,\n",
              " None,\n",
              " None,\n",
              " None,\n",
              " None,\n",
              " None,\n",
              " None,\n",
              " None,\n",
              " None,\n",
              " None,\n",
              " None,\n",
              " None,\n",
              " None,\n",
              " None,\n",
              " None,\n",
              " None,\n",
              " None,\n",
              " None,\n",
              " None,\n",
              " None,\n",
              " None,\n",
              " None,\n",
              " None,\n",
              " None,\n",
              " None,\n",
              " None,\n",
              " None,\n",
              " None,\n",
              " None,\n",
              " None,\n",
              " None,\n",
              " None,\n",
              " None,\n",
              " None,\n",
              " None,\n",
              " None,\n",
              " None,\n",
              " None,\n",
              " None,\n",
              " None,\n",
              " None,\n",
              " None,\n",
              " None,\n",
              " None,\n",
              " None,\n",
              " None,\n",
              " None,\n",
              " None,\n",
              " None,\n",
              " None,\n",
              " None,\n",
              " None,\n",
              " None,\n",
              " None,\n",
              " None,\n",
              " None,\n",
              " None,\n",
              " None,\n",
              " None,\n",
              " None,\n",
              " None,\n",
              " None,\n",
              " None,\n",
              " None,\n",
              " None,\n",
              " None,\n",
              " None,\n",
              " None,\n",
              " None,\n",
              " None,\n",
              " None,\n",
              " None,\n",
              " None,\n",
              " None,\n",
              " None,\n",
              " None,\n",
              " None,\n",
              " None,\n",
              " None,\n",
              " None,\n",
              " None,\n",
              " None,\n",
              " None,\n",
              " None,\n",
              " None,\n",
              " None,\n",
              " None,\n",
              " None,\n",
              " None,\n",
              " None,\n",
              " None,\n",
              " None,\n",
              " None,\n",
              " None,\n",
              " None,\n",
              " None,\n",
              " None,\n",
              " None,\n",
              " None,\n",
              " None,\n",
              " None,\n",
              " None,\n",
              " None,\n",
              " None,\n",
              " None,\n",
              " None,\n",
              " None,\n",
              " None,\n",
              " None,\n",
              " None,\n",
              " None,\n",
              " None,\n",
              " None,\n",
              " None,\n",
              " None,\n",
              " None,\n",
              " None,\n",
              " None,\n",
              " None,\n",
              " None,\n",
              " None,\n",
              " None,\n",
              " None,\n",
              " None,\n",
              " None,\n",
              " None,\n",
              " None,\n",
              " None,\n",
              " None,\n",
              " None,\n",
              " None,\n",
              " None,\n",
              " None,\n",
              " None,\n",
              " None,\n",
              " None,\n",
              " None,\n",
              " None,\n",
              " None,\n",
              " None,\n",
              " None,\n",
              " None,\n",
              " None,\n",
              " None,\n",
              " None,\n",
              " None,\n",
              " None,\n",
              " None,\n",
              " None,\n",
              " None,\n",
              " None,\n",
              " None,\n",
              " None,\n",
              " None,\n",
              " None,\n",
              " None,\n",
              " None,\n",
              " None,\n",
              " None,\n",
              " None,\n",
              " None]"
            ]
          },
          "metadata": {},
          "execution_count": 73
        },
        {
          "output_type": "execute_result",
          "data": {
            "text/plain": [
              "[None,\n",
              " None,\n",
              " None,\n",
              " None,\n",
              " None,\n",
              " None,\n",
              " None,\n",
              " None,\n",
              " None,\n",
              " None,\n",
              " None,\n",
              " None,\n",
              " None,\n",
              " None,\n",
              " None,\n",
              " None,\n",
              " None,\n",
              " None,\n",
              " None,\n",
              " None,\n",
              " None,\n",
              " None,\n",
              " None,\n",
              " None,\n",
              " None,\n",
              " None,\n",
              " None,\n",
              " None,\n",
              " None,\n",
              " None,\n",
              " None,\n",
              " None,\n",
              " None,\n",
              " None,\n",
              " None,\n",
              " None,\n",
              " None,\n",
              " None,\n",
              " None,\n",
              " None,\n",
              " None,\n",
              " None,\n",
              " None,\n",
              " None,\n",
              " None,\n",
              " None,\n",
              " None,\n",
              " None,\n",
              " None,\n",
              " None,\n",
              " None,\n",
              " None,\n",
              " None,\n",
              " None,\n",
              " None,\n",
              " None,\n",
              " None,\n",
              " None,\n",
              " None,\n",
              " None,\n",
              " None,\n",
              " None,\n",
              " None,\n",
              " None,\n",
              " None,\n",
              " None,\n",
              " None,\n",
              " None,\n",
              " None,\n",
              " None,\n",
              " None,\n",
              " None,\n",
              " None,\n",
              " None,\n",
              " None,\n",
              " None,\n",
              " None,\n",
              " None,\n",
              " None,\n",
              " None,\n",
              " None,\n",
              " None,\n",
              " None,\n",
              " None,\n",
              " None,\n",
              " None,\n",
              " None,\n",
              " None,\n",
              " None,\n",
              " None,\n",
              " None,\n",
              " None,\n",
              " None,\n",
              " None,\n",
              " None,\n",
              " None,\n",
              " None,\n",
              " None,\n",
              " None,\n",
              " None,\n",
              " None,\n",
              " None,\n",
              " None,\n",
              " None,\n",
              " None,\n",
              " None,\n",
              " None,\n",
              " None,\n",
              " None,\n",
              " None,\n",
              " None,\n",
              " None,\n",
              " None,\n",
              " None,\n",
              " None,\n",
              " None,\n",
              " None,\n",
              " None,\n",
              " None,\n",
              " None,\n",
              " None,\n",
              " None,\n",
              " None,\n",
              " None,\n",
              " None,\n",
              " None,\n",
              " None,\n",
              " None,\n",
              " None,\n",
              " None,\n",
              " None,\n",
              " None,\n",
              " None,\n",
              " None,\n",
              " None,\n",
              " None,\n",
              " None,\n",
              " None,\n",
              " None,\n",
              " None,\n",
              " None,\n",
              " None,\n",
              " None,\n",
              " None,\n",
              " None,\n",
              " None,\n",
              " None,\n",
              " None,\n",
              " None,\n",
              " None,\n",
              " None,\n",
              " None,\n",
              " None,\n",
              " None,\n",
              " None,\n",
              " None,\n",
              " None,\n",
              " None,\n",
              " None,\n",
              " None,\n",
              " None,\n",
              " None,\n",
              " None,\n",
              " None,\n",
              " None,\n",
              " None,\n",
              " None,\n",
              " None,\n",
              " None,\n",
              " None,\n",
              " None,\n",
              " None,\n",
              " None,\n",
              " None,\n",
              " None,\n",
              " None,\n",
              " None,\n",
              " None,\n",
              " None,\n",
              " None,\n",
              " None,\n",
              " None,\n",
              " None,\n",
              " None,\n",
              " None,\n",
              " None,\n",
              " None,\n",
              " None,\n",
              " None,\n",
              " None,\n",
              " None,\n",
              " None,\n",
              " None,\n",
              " None,\n",
              " None,\n",
              " None,\n",
              " None,\n",
              " None,\n",
              " None,\n",
              " None,\n",
              " None,\n",
              " None,\n",
              " None,\n",
              " None,\n",
              " None,\n",
              " None,\n",
              " None,\n",
              " None,\n",
              " None,\n",
              " None,\n",
              " None,\n",
              " None,\n",
              " None,\n",
              " None,\n",
              " None,\n",
              " None,\n",
              " None,\n",
              " None,\n",
              " None,\n",
              " None,\n",
              " None,\n",
              " None,\n",
              " None,\n",
              " None,\n",
              " None,\n",
              " None,\n",
              " None,\n",
              " None,\n",
              " None,\n",
              " None,\n",
              " None,\n",
              " None,\n",
              " None,\n",
              " None,\n",
              " None,\n",
              " None,\n",
              " None,\n",
              " None,\n",
              " None,\n",
              " None,\n",
              " None,\n",
              " None,\n",
              " None,\n",
              " None,\n",
              " None,\n",
              " None,\n",
              " None,\n",
              " None,\n",
              " None,\n",
              " None,\n",
              " None,\n",
              " None,\n",
              " None,\n",
              " None,\n",
              " None,\n",
              " None,\n",
              " None,\n",
              " None,\n",
              " None,\n",
              " None,\n",
              " None,\n",
              " None,\n",
              " None,\n",
              " None,\n",
              " None,\n",
              " None,\n",
              " None,\n",
              " None,\n",
              " None,\n",
              " None,\n",
              " None,\n",
              " None,\n",
              " None,\n",
              " None,\n",
              " None,\n",
              " None,\n",
              " None,\n",
              " None,\n",
              " None,\n",
              " None,\n",
              " None,\n",
              " None,\n",
              " None,\n",
              " None,\n",
              " None,\n",
              " None,\n",
              " None,\n",
              " None,\n",
              " None,\n",
              " None,\n",
              " None,\n",
              " None,\n",
              " None,\n",
              " None,\n",
              " None,\n",
              " None,\n",
              " None,\n",
              " None,\n",
              " None,\n",
              " None,\n",
              " None,\n",
              " None,\n",
              " None,\n",
              " None,\n",
              " None,\n",
              " None,\n",
              " None,\n",
              " None,\n",
              " None,\n",
              " None,\n",
              " None,\n",
              " None,\n",
              " None,\n",
              " None,\n",
              " None,\n",
              " None,\n",
              " None,\n",
              " None,\n",
              " None,\n",
              " None,\n",
              " None,\n",
              " None,\n",
              " None,\n",
              " None,\n",
              " None,\n",
              " None,\n",
              " None,\n",
              " None,\n",
              " None,\n",
              " None,\n",
              " None,\n",
              " None,\n",
              " None,\n",
              " None,\n",
              " None,\n",
              " None,\n",
              " None,\n",
              " None,\n",
              " None,\n",
              " None,\n",
              " None,\n",
              " None,\n",
              " None,\n",
              " None,\n",
              " None,\n",
              " None,\n",
              " None,\n",
              " None,\n",
              " None,\n",
              " None,\n",
              " None,\n",
              " None,\n",
              " None,\n",
              " None,\n",
              " None,\n",
              " None,\n",
              " None,\n",
              " None,\n",
              " None,\n",
              " None,\n",
              " None,\n",
              " None,\n",
              " None,\n",
              " None,\n",
              " None]"
            ]
          },
          "metadata": {},
          "execution_count": 73
        }
      ]
    },
    {
      "cell_type": "markdown",
      "source": [
        "## Feature Creation"
      ],
      "metadata": {
        "id": "iIRnekfVxXZR"
      }
    },
    {
      "cell_type": "code",
      "source": [
        "# Load the data into Pandas Datafame\n",
        "data = pd.DataFrame.from_dict(dict(all_names), orient='index', columns=['gender']).reset_index()\n",
        "data.columns = ['name', 'gender']\n",
        "data.tail(10)"
      ],
      "metadata": {
        "colab": {
          "base_uri": "https://localhost:8080/",
          "height": 363
        },
        "id": "kWG-Z6wSxgHW",
        "outputId": "4ba4c2ba-ef4e-4848-ab4d-c2cd4cbf043b"
      },
      "execution_count": 74,
      "outputs": [
        {
          "output_type": "execute_result",
          "data": {
            "text/plain": [
              "          name  gender\n",
              "7201     lorie  female\n",
              "7202   rodrick    male\n",
              "7203      leta  female\n",
              "7204      mort    male\n",
              "7205      tobi  female\n",
              "7206    samara  female\n",
              "7207   malorie  female\n",
              "7208     mandy  female\n",
              "7209  voltaire    male\n",
              "7210    stearn    male"
            ],
            "text/html": [
              "\n",
              "  <div id=\"df-b753ffda-6b0d-4630-b4e3-105e6ec0822d\">\n",
              "    <div class=\"colab-df-container\">\n",
              "      <div>\n",
              "<style scoped>\n",
              "    .dataframe tbody tr th:only-of-type {\n",
              "        vertical-align: middle;\n",
              "    }\n",
              "\n",
              "    .dataframe tbody tr th {\n",
              "        vertical-align: top;\n",
              "    }\n",
              "\n",
              "    .dataframe thead th {\n",
              "        text-align: right;\n",
              "    }\n",
              "</style>\n",
              "<table border=\"1\" class=\"dataframe\">\n",
              "  <thead>\n",
              "    <tr style=\"text-align: right;\">\n",
              "      <th></th>\n",
              "      <th>name</th>\n",
              "      <th>gender</th>\n",
              "    </tr>\n",
              "  </thead>\n",
              "  <tbody>\n",
              "    <tr>\n",
              "      <th>7201</th>\n",
              "      <td>lorie</td>\n",
              "      <td>female</td>\n",
              "    </tr>\n",
              "    <tr>\n",
              "      <th>7202</th>\n",
              "      <td>rodrick</td>\n",
              "      <td>male</td>\n",
              "    </tr>\n",
              "    <tr>\n",
              "      <th>7203</th>\n",
              "      <td>leta</td>\n",
              "      <td>female</td>\n",
              "    </tr>\n",
              "    <tr>\n",
              "      <th>7204</th>\n",
              "      <td>mort</td>\n",
              "      <td>male</td>\n",
              "    </tr>\n",
              "    <tr>\n",
              "      <th>7205</th>\n",
              "      <td>tobi</td>\n",
              "      <td>female</td>\n",
              "    </tr>\n",
              "    <tr>\n",
              "      <th>7206</th>\n",
              "      <td>samara</td>\n",
              "      <td>female</td>\n",
              "    </tr>\n",
              "    <tr>\n",
              "      <th>7207</th>\n",
              "      <td>malorie</td>\n",
              "      <td>female</td>\n",
              "    </tr>\n",
              "    <tr>\n",
              "      <th>7208</th>\n",
              "      <td>mandy</td>\n",
              "      <td>female</td>\n",
              "    </tr>\n",
              "    <tr>\n",
              "      <th>7209</th>\n",
              "      <td>voltaire</td>\n",
              "      <td>male</td>\n",
              "    </tr>\n",
              "    <tr>\n",
              "      <th>7210</th>\n",
              "      <td>stearn</td>\n",
              "      <td>male</td>\n",
              "    </tr>\n",
              "  </tbody>\n",
              "</table>\n",
              "</div>\n",
              "      <button class=\"colab-df-convert\" onclick=\"convertToInteractive('df-b753ffda-6b0d-4630-b4e3-105e6ec0822d')\"\n",
              "              title=\"Convert this dataframe to an interactive table.\"\n",
              "              style=\"display:none;\">\n",
              "        \n",
              "  <svg xmlns=\"http://www.w3.org/2000/svg\" height=\"24px\"viewBox=\"0 0 24 24\"\n",
              "       width=\"24px\">\n",
              "    <path d=\"M0 0h24v24H0V0z\" fill=\"none\"/>\n",
              "    <path d=\"M18.56 5.44l.94 2.06.94-2.06 2.06-.94-2.06-.94-.94-2.06-.94 2.06-2.06.94zm-11 1L8.5 8.5l.94-2.06 2.06-.94-2.06-.94L8.5 2.5l-.94 2.06-2.06.94zm10 10l.94 2.06.94-2.06 2.06-.94-2.06-.94-.94-2.06-.94 2.06-2.06.94z\"/><path d=\"M17.41 7.96l-1.37-1.37c-.4-.4-.92-.59-1.43-.59-.52 0-1.04.2-1.43.59L10.3 9.45l-7.72 7.72c-.78.78-.78 2.05 0 2.83L4 21.41c.39.39.9.59 1.41.59.51 0 1.02-.2 1.41-.59l7.78-7.78 2.81-2.81c.8-.78.8-2.07 0-2.86zM5.41 20L4 18.59l7.72-7.72 1.47 1.35L5.41 20z\"/>\n",
              "  </svg>\n",
              "      </button>\n",
              "      \n",
              "  <style>\n",
              "    .colab-df-container {\n",
              "      display:flex;\n",
              "      flex-wrap:wrap;\n",
              "      gap: 12px;\n",
              "    }\n",
              "\n",
              "    .colab-df-convert {\n",
              "      background-color: #E8F0FE;\n",
              "      border: none;\n",
              "      border-radius: 50%;\n",
              "      cursor: pointer;\n",
              "      display: none;\n",
              "      fill: #1967D2;\n",
              "      height: 32px;\n",
              "      padding: 0 0 0 0;\n",
              "      width: 32px;\n",
              "    }\n",
              "\n",
              "    .colab-df-convert:hover {\n",
              "      background-color: #E2EBFA;\n",
              "      box-shadow: 0px 1px 2px rgba(60, 64, 67, 0.3), 0px 1px 3px 1px rgba(60, 64, 67, 0.15);\n",
              "      fill: #174EA6;\n",
              "    }\n",
              "\n",
              "    [theme=dark] .colab-df-convert {\n",
              "      background-color: #3B4455;\n",
              "      fill: #D2E3FC;\n",
              "    }\n",
              "\n",
              "    [theme=dark] .colab-df-convert:hover {\n",
              "      background-color: #434B5C;\n",
              "      box-shadow: 0px 1px 3px 1px rgba(0, 0, 0, 0.15);\n",
              "      filter: drop-shadow(0px 1px 2px rgba(0, 0, 0, 0.3));\n",
              "      fill: #FFFFFF;\n",
              "    }\n",
              "  </style>\n",
              "\n",
              "      <script>\n",
              "        const buttonEl =\n",
              "          document.querySelector('#df-b753ffda-6b0d-4630-b4e3-105e6ec0822d button.colab-df-convert');\n",
              "        buttonEl.style.display =\n",
              "          google.colab.kernel.accessAllowed ? 'block' : 'none';\n",
              "\n",
              "        async function convertToInteractive(key) {\n",
              "          const element = document.querySelector('#df-b753ffda-6b0d-4630-b4e3-105e6ec0822d');\n",
              "          const dataTable =\n",
              "            await google.colab.kernel.invokeFunction('convertToInteractive',\n",
              "                                                     [key], {});\n",
              "          if (!dataTable) return;\n",
              "\n",
              "          const docLinkHtml = 'Like what you see? Visit the ' +\n",
              "            '<a target=\"_blank\" href=https://colab.research.google.com/notebooks/data_table.ipynb>data table notebook</a>'\n",
              "            + ' to learn more about interactive tables.';\n",
              "          element.innerHTML = '';\n",
              "          dataTable['output_type'] = 'display_data';\n",
              "          await google.colab.output.renderOutput(dataTable, element);\n",
              "          const docLink = document.createElement('div');\n",
              "          docLink.innerHTML = docLinkHtml;\n",
              "          element.appendChild(docLink);\n",
              "        }\n",
              "      </script>\n",
              "    </div>\n",
              "  </div>\n",
              "  "
            ]
          },
          "metadata": {},
          "execution_count": 74
        }
      ]
    },
    {
      "cell_type": "code",
      "source": [
        "# instatiate syllable tokenize\n",
        "tk= SyllableTokenizer()\n",
        "\n",
        "# create various feature columns for exploration\n",
        "data['length'] = data['name'].str.len()\n",
        "data['first_letter'] = data['name'].str[0]\n",
        "data['last_letter'] = data['name'].str[-1]\n",
        "data['vowel_last_letter'] = data['last_letter'].isin([*'aeiou'])\n",
        "data['vowel_first_letter'] = data['first_letter'].isin([*'aeiou'])\n",
        "data['vowels'] = data['name'].str.replace(r'[^aeiou]', '')\n",
        "data['consonants'] = data['name'].str.replace(r'[aeiou]', '')\n",
        "data['vowel_count'] = data['vowels'].str.len()\n",
        "data['consonant_count'] = data['consonants'].str.len()\n",
        "data['bigrams'] = data['name'].apply(lambda x: list(ngrams(x, 2)))\n",
        "data['trigrams'] = data['name'].apply(lambda x: list(ngrams(x, 3)))\n",
        "data['syllables'] = data['name'].apply(lambda x: len(tk.tokenize(x)))\n",
        "\n",
        "# preview data\n",
        "data.tail()"
      ],
      "metadata": {
        "colab": {
          "base_uri": "https://localhost:8080/",
          "height": 687
        },
        "id": "QTkhIYYAyZBA",
        "outputId": "3e46c69e-8adc-475e-cd27-1e886624235c"
      },
      "execution_count": 75,
      "outputs": [
        {
          "output_type": "stream",
          "name": "stderr",
          "text": [
            "/usr/local/lib/python3.7/dist-packages/ipykernel_launcher.py:10: FutureWarning: The default value of regex will change from True to False in a future version.\n",
            "  # Remove the CWD from sys.path while we load stuff.\n",
            "/usr/local/lib/python3.7/dist-packages/ipykernel_launcher.py:11: FutureWarning: The default value of regex will change from True to False in a future version.\n",
            "  # This is added back by InteractiveShellApp.init_path()\n",
            "/usr/local/lib/python3.7/dist-packages/nltk/tokenize/sonority_sequencing.py:104: UserWarning: Character not defined in sonority_hierarchy, assigning as vowel: ' '\n",
            "  \" assigning as vowel: '{}'\".format(c)\n"
          ]
        },
        {
          "output_type": "execute_result",
          "data": {
            "text/plain": [
              "          name  gender  length first_letter last_letter  vowel_last_letter  \\\n",
              "7206    samara  female       6            s           a               True   \n",
              "7207   malorie  female       7            m           e               True   \n",
              "7208     mandy  female       5            m           y              False   \n",
              "7209  voltaire    male       8            v           e               True   \n",
              "7210    stearn    male       6            s           n              False   \n",
              "\n",
              "      vowel_first_letter vowels consonants  vowel_count  consonant_count  \\\n",
              "7206               False    aaa        smr            3                3   \n",
              "7207               False   aoie        mlr            4                3   \n",
              "7208               False      a       mndy            1                4   \n",
              "7209               False   oaie       vltr            4                4   \n",
              "7210               False     ea       strn            2                4   \n",
              "\n",
              "                                                bigrams  \\\n",
              "7206           [(s, a), (a, m), (m, a), (a, r), (r, a)]   \n",
              "7207   [(m, a), (a, l), (l, o), (o, r), (r, i), (i, e)]   \n",
              "7208                   [(m, a), (a, n), (n, d), (d, y)]   \n",
              "7209  [(v, o), (o, l), (l, t), (t, a), (a, i), (i, r...   \n",
              "7210           [(s, t), (t, e), (e, a), (a, r), (r, n)]   \n",
              "\n",
              "                                               trigrams  syllables  \n",
              "7206       [(s, a, m), (a, m, a), (m, a, r), (a, r, a)]          3  \n",
              "7207  [(m, a, l), (a, l, o), (l, o, r), (o, r, i), (...          3  \n",
              "7208                  [(m, a, n), (a, n, d), (n, d, y)]          2  \n",
              "7209  [(v, o, l), (o, l, t), (l, t, a), (t, a, i), (...          3  \n",
              "7210       [(s, t, e), (t, e, a), (e, a, r), (a, r, n)]          1  "
            ],
            "text/html": [
              "\n",
              "  <div id=\"df-345a1b00-f8fe-462d-be6a-c44eae722d86\">\n",
              "    <div class=\"colab-df-container\">\n",
              "      <div>\n",
              "<style scoped>\n",
              "    .dataframe tbody tr th:only-of-type {\n",
              "        vertical-align: middle;\n",
              "    }\n",
              "\n",
              "    .dataframe tbody tr th {\n",
              "        vertical-align: top;\n",
              "    }\n",
              "\n",
              "    .dataframe thead th {\n",
              "        text-align: right;\n",
              "    }\n",
              "</style>\n",
              "<table border=\"1\" class=\"dataframe\">\n",
              "  <thead>\n",
              "    <tr style=\"text-align: right;\">\n",
              "      <th></th>\n",
              "      <th>name</th>\n",
              "      <th>gender</th>\n",
              "      <th>length</th>\n",
              "      <th>first_letter</th>\n",
              "      <th>last_letter</th>\n",
              "      <th>vowel_last_letter</th>\n",
              "      <th>vowel_first_letter</th>\n",
              "      <th>vowels</th>\n",
              "      <th>consonants</th>\n",
              "      <th>vowel_count</th>\n",
              "      <th>consonant_count</th>\n",
              "      <th>bigrams</th>\n",
              "      <th>trigrams</th>\n",
              "      <th>syllables</th>\n",
              "    </tr>\n",
              "  </thead>\n",
              "  <tbody>\n",
              "    <tr>\n",
              "      <th>7206</th>\n",
              "      <td>samara</td>\n",
              "      <td>female</td>\n",
              "      <td>6</td>\n",
              "      <td>s</td>\n",
              "      <td>a</td>\n",
              "      <td>True</td>\n",
              "      <td>False</td>\n",
              "      <td>aaa</td>\n",
              "      <td>smr</td>\n",
              "      <td>3</td>\n",
              "      <td>3</td>\n",
              "      <td>[(s, a), (a, m), (m, a), (a, r), (r, a)]</td>\n",
              "      <td>[(s, a, m), (a, m, a), (m, a, r), (a, r, a)]</td>\n",
              "      <td>3</td>\n",
              "    </tr>\n",
              "    <tr>\n",
              "      <th>7207</th>\n",
              "      <td>malorie</td>\n",
              "      <td>female</td>\n",
              "      <td>7</td>\n",
              "      <td>m</td>\n",
              "      <td>e</td>\n",
              "      <td>True</td>\n",
              "      <td>False</td>\n",
              "      <td>aoie</td>\n",
              "      <td>mlr</td>\n",
              "      <td>4</td>\n",
              "      <td>3</td>\n",
              "      <td>[(m, a), (a, l), (l, o), (o, r), (r, i), (i, e)]</td>\n",
              "      <td>[(m, a, l), (a, l, o), (l, o, r), (o, r, i), (...</td>\n",
              "      <td>3</td>\n",
              "    </tr>\n",
              "    <tr>\n",
              "      <th>7208</th>\n",
              "      <td>mandy</td>\n",
              "      <td>female</td>\n",
              "      <td>5</td>\n",
              "      <td>m</td>\n",
              "      <td>y</td>\n",
              "      <td>False</td>\n",
              "      <td>False</td>\n",
              "      <td>a</td>\n",
              "      <td>mndy</td>\n",
              "      <td>1</td>\n",
              "      <td>4</td>\n",
              "      <td>[(m, a), (a, n), (n, d), (d, y)]</td>\n",
              "      <td>[(m, a, n), (a, n, d), (n, d, y)]</td>\n",
              "      <td>2</td>\n",
              "    </tr>\n",
              "    <tr>\n",
              "      <th>7209</th>\n",
              "      <td>voltaire</td>\n",
              "      <td>male</td>\n",
              "      <td>8</td>\n",
              "      <td>v</td>\n",
              "      <td>e</td>\n",
              "      <td>True</td>\n",
              "      <td>False</td>\n",
              "      <td>oaie</td>\n",
              "      <td>vltr</td>\n",
              "      <td>4</td>\n",
              "      <td>4</td>\n",
              "      <td>[(v, o), (o, l), (l, t), (t, a), (a, i), (i, r...</td>\n",
              "      <td>[(v, o, l), (o, l, t), (l, t, a), (t, a, i), (...</td>\n",
              "      <td>3</td>\n",
              "    </tr>\n",
              "    <tr>\n",
              "      <th>7210</th>\n",
              "      <td>stearn</td>\n",
              "      <td>male</td>\n",
              "      <td>6</td>\n",
              "      <td>s</td>\n",
              "      <td>n</td>\n",
              "      <td>False</td>\n",
              "      <td>False</td>\n",
              "      <td>ea</td>\n",
              "      <td>strn</td>\n",
              "      <td>2</td>\n",
              "      <td>4</td>\n",
              "      <td>[(s, t), (t, e), (e, a), (a, r), (r, n)]</td>\n",
              "      <td>[(s, t, e), (t, e, a), (e, a, r), (a, r, n)]</td>\n",
              "      <td>1</td>\n",
              "    </tr>\n",
              "  </tbody>\n",
              "</table>\n",
              "</div>\n",
              "      <button class=\"colab-df-convert\" onclick=\"convertToInteractive('df-345a1b00-f8fe-462d-be6a-c44eae722d86')\"\n",
              "              title=\"Convert this dataframe to an interactive table.\"\n",
              "              style=\"display:none;\">\n",
              "        \n",
              "  <svg xmlns=\"http://www.w3.org/2000/svg\" height=\"24px\"viewBox=\"0 0 24 24\"\n",
              "       width=\"24px\">\n",
              "    <path d=\"M0 0h24v24H0V0z\" fill=\"none\"/>\n",
              "    <path d=\"M18.56 5.44l.94 2.06.94-2.06 2.06-.94-2.06-.94-.94-2.06-.94 2.06-2.06.94zm-11 1L8.5 8.5l.94-2.06 2.06-.94-2.06-.94L8.5 2.5l-.94 2.06-2.06.94zm10 10l.94 2.06.94-2.06 2.06-.94-2.06-.94-.94-2.06-.94 2.06-2.06.94z\"/><path d=\"M17.41 7.96l-1.37-1.37c-.4-.4-.92-.59-1.43-.59-.52 0-1.04.2-1.43.59L10.3 9.45l-7.72 7.72c-.78.78-.78 2.05 0 2.83L4 21.41c.39.39.9.59 1.41.59.51 0 1.02-.2 1.41-.59l7.78-7.78 2.81-2.81c.8-.78.8-2.07 0-2.86zM5.41 20L4 18.59l7.72-7.72 1.47 1.35L5.41 20z\"/>\n",
              "  </svg>\n",
              "      </button>\n",
              "      \n",
              "  <style>\n",
              "    .colab-df-container {\n",
              "      display:flex;\n",
              "      flex-wrap:wrap;\n",
              "      gap: 12px;\n",
              "    }\n",
              "\n",
              "    .colab-df-convert {\n",
              "      background-color: #E8F0FE;\n",
              "      border: none;\n",
              "      border-radius: 50%;\n",
              "      cursor: pointer;\n",
              "      display: none;\n",
              "      fill: #1967D2;\n",
              "      height: 32px;\n",
              "      padding: 0 0 0 0;\n",
              "      width: 32px;\n",
              "    }\n",
              "\n",
              "    .colab-df-convert:hover {\n",
              "      background-color: #E2EBFA;\n",
              "      box-shadow: 0px 1px 2px rgba(60, 64, 67, 0.3), 0px 1px 3px 1px rgba(60, 64, 67, 0.15);\n",
              "      fill: #174EA6;\n",
              "    }\n",
              "\n",
              "    [theme=dark] .colab-df-convert {\n",
              "      background-color: #3B4455;\n",
              "      fill: #D2E3FC;\n",
              "    }\n",
              "\n",
              "    [theme=dark] .colab-df-convert:hover {\n",
              "      background-color: #434B5C;\n",
              "      box-shadow: 0px 1px 3px 1px rgba(0, 0, 0, 0.15);\n",
              "      filter: drop-shadow(0px 1px 2px rgba(0, 0, 0, 0.3));\n",
              "      fill: #FFFFFF;\n",
              "    }\n",
              "  </style>\n",
              "\n",
              "      <script>\n",
              "        const buttonEl =\n",
              "          document.querySelector('#df-345a1b00-f8fe-462d-be6a-c44eae722d86 button.colab-df-convert');\n",
              "        buttonEl.style.display =\n",
              "          google.colab.kernel.accessAllowed ? 'block' : 'none';\n",
              "\n",
              "        async function convertToInteractive(key) {\n",
              "          const element = document.querySelector('#df-345a1b00-f8fe-462d-be6a-c44eae722d86');\n",
              "          const dataTable =\n",
              "            await google.colab.kernel.invokeFunction('convertToInteractive',\n",
              "                                                     [key], {});\n",
              "          if (!dataTable) return;\n",
              "\n",
              "          const docLinkHtml = 'Like what you see? Visit the ' +\n",
              "            '<a target=\"_blank\" href=https://colab.research.google.com/notebooks/data_table.ipynb>data table notebook</a>'\n",
              "            + ' to learn more about interactive tables.';\n",
              "          element.innerHTML = '';\n",
              "          dataTable['output_type'] = 'display_data';\n",
              "          await google.colab.output.renderOutput(dataTable, element);\n",
              "          const docLink = document.createElement('div');\n",
              "          docLink.innerHTML = docLinkHtml;\n",
              "          element.appendChild(docLink);\n",
              "        }\n",
              "      </script>\n",
              "    </div>\n",
              "  </div>\n",
              "  "
            ]
          },
          "metadata": {},
          "execution_count": 75
        }
      ]
    },
    {
      "cell_type": "code",
      "source": [
        "# Get the most common ngrams by gender through analysis of the bigrams and trigrams columns\n",
        "ngrams_gender = data.groupby('gender')[['bigrams', 'trigrams']].sum()\n",
        "ngrams_gender['bigrams_counter'] = ngrams_gender['bigrams'].apply(lambda x: Counter(x))\n",
        "ngrams_gender['trigrams_counter'] = ngrams_gender['trigrams'].apply(lambda x: Counter(x))\n",
        "ngrams_gender"
      ],
      "metadata": {
        "colab": {
          "base_uri": "https://localhost:8080/",
          "height": 143
        },
        "id": "uXrz0YRq74ZF",
        "outputId": "e319c93d-1e40-4c3a-ecbf-34b4dcc938b4"
      },
      "execution_count": 76,
      "outputs": [
        {
          "output_type": "execute_result",
          "data": {
            "text/plain": [
              "                                                  bigrams  \\\n",
              "gender                                                      \n",
              "female  [(p, e), (e, g), (g, g), (g, y), (m, a), (a, y...   \n",
              "male    [(l, e), (e, s), (s, t), (t, e), (e, r), (r, i...   \n",
              "\n",
              "                                                 trigrams  \\\n",
              "gender                                                      \n",
              "female  [(p, e, g), (e, g, g), (g, g, y), (m, a, y), (...   \n",
              "male    [(l, e, s), (e, s, t), (s, t, e), (t, e, r), (...   \n",
              "\n",
              "                                          bigrams_counter  \\\n",
              "gender                                                      \n",
              "female  {('p', 'e'): 39, ('e', 'g'): 22, ('g', 'g'): 1...   \n",
              "male    {('l', 'e'): 168, ('e', 's'): 72, ('s', 't'): ...   \n",
              "\n",
              "                                         trigrams_counter  \n",
              "gender                                                     \n",
              "female  {('p', 'e', 'g'): 5, ('e', 'g', 'g'): 8, ('g',...  \n",
              "male    {('l', 'e', 's'): 12, ('e', 's', 't'): 22, ('s...  "
            ],
            "text/html": [
              "\n",
              "  <div id=\"df-04237190-96b4-4d83-9398-8491118ca63b\">\n",
              "    <div class=\"colab-df-container\">\n",
              "      <div>\n",
              "<style scoped>\n",
              "    .dataframe tbody tr th:only-of-type {\n",
              "        vertical-align: middle;\n",
              "    }\n",
              "\n",
              "    .dataframe tbody tr th {\n",
              "        vertical-align: top;\n",
              "    }\n",
              "\n",
              "    .dataframe thead th {\n",
              "        text-align: right;\n",
              "    }\n",
              "</style>\n",
              "<table border=\"1\" class=\"dataframe\">\n",
              "  <thead>\n",
              "    <tr style=\"text-align: right;\">\n",
              "      <th></th>\n",
              "      <th>bigrams</th>\n",
              "      <th>trigrams</th>\n",
              "      <th>bigrams_counter</th>\n",
              "      <th>trigrams_counter</th>\n",
              "    </tr>\n",
              "    <tr>\n",
              "      <th>gender</th>\n",
              "      <th></th>\n",
              "      <th></th>\n",
              "      <th></th>\n",
              "      <th></th>\n",
              "    </tr>\n",
              "  </thead>\n",
              "  <tbody>\n",
              "    <tr>\n",
              "      <th>female</th>\n",
              "      <td>[(p, e), (e, g), (g, g), (g, y), (m, a), (a, y...</td>\n",
              "      <td>[(p, e, g), (e, g, g), (g, g, y), (m, a, y), (...</td>\n",
              "      <td>{('p', 'e'): 39, ('e', 'g'): 22, ('g', 'g'): 1...</td>\n",
              "      <td>{('p', 'e', 'g'): 5, ('e', 'g', 'g'): 8, ('g',...</td>\n",
              "    </tr>\n",
              "    <tr>\n",
              "      <th>male</th>\n",
              "      <td>[(l, e), (e, s), (s, t), (t, e), (e, r), (r, i...</td>\n",
              "      <td>[(l, e, s), (e, s, t), (s, t, e), (t, e, r), (...</td>\n",
              "      <td>{('l', 'e'): 168, ('e', 's'): 72, ('s', 't'): ...</td>\n",
              "      <td>{('l', 'e', 's'): 12, ('e', 's', 't'): 22, ('s...</td>\n",
              "    </tr>\n",
              "  </tbody>\n",
              "</table>\n",
              "</div>\n",
              "      <button class=\"colab-df-convert\" onclick=\"convertToInteractive('df-04237190-96b4-4d83-9398-8491118ca63b')\"\n",
              "              title=\"Convert this dataframe to an interactive table.\"\n",
              "              style=\"display:none;\">\n",
              "        \n",
              "  <svg xmlns=\"http://www.w3.org/2000/svg\" height=\"24px\"viewBox=\"0 0 24 24\"\n",
              "       width=\"24px\">\n",
              "    <path d=\"M0 0h24v24H0V0z\" fill=\"none\"/>\n",
              "    <path d=\"M18.56 5.44l.94 2.06.94-2.06 2.06-.94-2.06-.94-.94-2.06-.94 2.06-2.06.94zm-11 1L8.5 8.5l.94-2.06 2.06-.94-2.06-.94L8.5 2.5l-.94 2.06-2.06.94zm10 10l.94 2.06.94-2.06 2.06-.94-2.06-.94-.94-2.06-.94 2.06-2.06.94z\"/><path d=\"M17.41 7.96l-1.37-1.37c-.4-.4-.92-.59-1.43-.59-.52 0-1.04.2-1.43.59L10.3 9.45l-7.72 7.72c-.78.78-.78 2.05 0 2.83L4 21.41c.39.39.9.59 1.41.59.51 0 1.02-.2 1.41-.59l7.78-7.78 2.81-2.81c.8-.78.8-2.07 0-2.86zM5.41 20L4 18.59l7.72-7.72 1.47 1.35L5.41 20z\"/>\n",
              "  </svg>\n",
              "      </button>\n",
              "      \n",
              "  <style>\n",
              "    .colab-df-container {\n",
              "      display:flex;\n",
              "      flex-wrap:wrap;\n",
              "      gap: 12px;\n",
              "    }\n",
              "\n",
              "    .colab-df-convert {\n",
              "      background-color: #E8F0FE;\n",
              "      border: none;\n",
              "      border-radius: 50%;\n",
              "      cursor: pointer;\n",
              "      display: none;\n",
              "      fill: #1967D2;\n",
              "      height: 32px;\n",
              "      padding: 0 0 0 0;\n",
              "      width: 32px;\n",
              "    }\n",
              "\n",
              "    .colab-df-convert:hover {\n",
              "      background-color: #E2EBFA;\n",
              "      box-shadow: 0px 1px 2px rgba(60, 64, 67, 0.3), 0px 1px 3px 1px rgba(60, 64, 67, 0.15);\n",
              "      fill: #174EA6;\n",
              "    }\n",
              "\n",
              "    [theme=dark] .colab-df-convert {\n",
              "      background-color: #3B4455;\n",
              "      fill: #D2E3FC;\n",
              "    }\n",
              "\n",
              "    [theme=dark] .colab-df-convert:hover {\n",
              "      background-color: #434B5C;\n",
              "      box-shadow: 0px 1px 3px 1px rgba(0, 0, 0, 0.15);\n",
              "      filter: drop-shadow(0px 1px 2px rgba(0, 0, 0, 0.3));\n",
              "      fill: #FFFFFF;\n",
              "    }\n",
              "  </style>\n",
              "\n",
              "      <script>\n",
              "        const buttonEl =\n",
              "          document.querySelector('#df-04237190-96b4-4d83-9398-8491118ca63b button.colab-df-convert');\n",
              "        buttonEl.style.display =\n",
              "          google.colab.kernel.accessAllowed ? 'block' : 'none';\n",
              "\n",
              "        async function convertToInteractive(key) {\n",
              "          const element = document.querySelector('#df-04237190-96b4-4d83-9398-8491118ca63b');\n",
              "          const dataTable =\n",
              "            await google.colab.kernel.invokeFunction('convertToInteractive',\n",
              "                                                     [key], {});\n",
              "          if (!dataTable) return;\n",
              "\n",
              "          const docLinkHtml = 'Like what you see? Visit the ' +\n",
              "            '<a target=\"_blank\" href=https://colab.research.google.com/notebooks/data_table.ipynb>data table notebook</a>'\n",
              "            + ' to learn more about interactive tables.';\n",
              "          element.innerHTML = '';\n",
              "          dataTable['output_type'] = 'display_data';\n",
              "          await google.colab.output.renderOutput(dataTable, element);\n",
              "          const docLink = document.createElement('div');\n",
              "          docLink.innerHTML = docLinkHtml;\n",
              "          element.appendChild(docLink);\n",
              "        }\n",
              "      </script>\n",
              "    </div>\n",
              "  </div>\n",
              "  "
            ]
          },
          "metadata": {},
          "execution_count": 76
        }
      ]
    },
    {
      "cell_type": "markdown",
      "source": [
        "## Data Exploration\n",
        "\n",
        "Visual and computation exploration of whether the features created are good predictors of gender."
      ],
      "metadata": {
        "id": "-jcp5YQM8gq-"
      }
    },
    {
      "cell_type": "code",
      "source": [
        "# Some summary statistics\n",
        "data.groupby('gender').mean()"
      ],
      "metadata": {
        "colab": {
          "base_uri": "https://localhost:8080/",
          "height": 143
        },
        "id": "JMMqom-E84bZ",
        "outputId": "4bab232f-c403-4466-d3d5-9426a48507b1"
      },
      "execution_count": 77,
      "outputs": [
        {
          "output_type": "execute_result",
          "data": {
            "text/plain": [
              "          length  vowel_last_letter  vowel_first_letter  vowel_count  \\\n",
              "gender                                                                 \n",
              "female  6.186920           0.737319            0.176344     2.701705   \n",
              "male    5.995733           0.224593            0.159426     2.221102   \n",
              "\n",
              "        consonant_count  syllables  \n",
              "gender                              \n",
              "female         3.485215   2.498165  \n",
              "male           3.774631   2.061676  "
            ],
            "text/html": [
              "\n",
              "  <div id=\"df-cdc3e1c1-bea2-4a95-a5b7-515cc3361693\">\n",
              "    <div class=\"colab-df-container\">\n",
              "      <div>\n",
              "<style scoped>\n",
              "    .dataframe tbody tr th:only-of-type {\n",
              "        vertical-align: middle;\n",
              "    }\n",
              "\n",
              "    .dataframe tbody tr th {\n",
              "        vertical-align: top;\n",
              "    }\n",
              "\n",
              "    .dataframe thead th {\n",
              "        text-align: right;\n",
              "    }\n",
              "</style>\n",
              "<table border=\"1\" class=\"dataframe\">\n",
              "  <thead>\n",
              "    <tr style=\"text-align: right;\">\n",
              "      <th></th>\n",
              "      <th>length</th>\n",
              "      <th>vowel_last_letter</th>\n",
              "      <th>vowel_first_letter</th>\n",
              "      <th>vowel_count</th>\n",
              "      <th>consonant_count</th>\n",
              "      <th>syllables</th>\n",
              "    </tr>\n",
              "    <tr>\n",
              "      <th>gender</th>\n",
              "      <th></th>\n",
              "      <th></th>\n",
              "      <th></th>\n",
              "      <th></th>\n",
              "      <th></th>\n",
              "      <th></th>\n",
              "    </tr>\n",
              "  </thead>\n",
              "  <tbody>\n",
              "    <tr>\n",
              "      <th>female</th>\n",
              "      <td>6.186920</td>\n",
              "      <td>0.737319</td>\n",
              "      <td>0.176344</td>\n",
              "      <td>2.701705</td>\n",
              "      <td>3.485215</td>\n",
              "      <td>2.498165</td>\n",
              "    </tr>\n",
              "    <tr>\n",
              "      <th>male</th>\n",
              "      <td>5.995733</td>\n",
              "      <td>0.224593</td>\n",
              "      <td>0.159426</td>\n",
              "      <td>2.221102</td>\n",
              "      <td>3.774631</td>\n",
              "      <td>2.061676</td>\n",
              "    </tr>\n",
              "  </tbody>\n",
              "</table>\n",
              "</div>\n",
              "      <button class=\"colab-df-convert\" onclick=\"convertToInteractive('df-cdc3e1c1-bea2-4a95-a5b7-515cc3361693')\"\n",
              "              title=\"Convert this dataframe to an interactive table.\"\n",
              "              style=\"display:none;\">\n",
              "        \n",
              "  <svg xmlns=\"http://www.w3.org/2000/svg\" height=\"24px\"viewBox=\"0 0 24 24\"\n",
              "       width=\"24px\">\n",
              "    <path d=\"M0 0h24v24H0V0z\" fill=\"none\"/>\n",
              "    <path d=\"M18.56 5.44l.94 2.06.94-2.06 2.06-.94-2.06-.94-.94-2.06-.94 2.06-2.06.94zm-11 1L8.5 8.5l.94-2.06 2.06-.94-2.06-.94L8.5 2.5l-.94 2.06-2.06.94zm10 10l.94 2.06.94-2.06 2.06-.94-2.06-.94-.94-2.06-.94 2.06-2.06.94z\"/><path d=\"M17.41 7.96l-1.37-1.37c-.4-.4-.92-.59-1.43-.59-.52 0-1.04.2-1.43.59L10.3 9.45l-7.72 7.72c-.78.78-.78 2.05 0 2.83L4 21.41c.39.39.9.59 1.41.59.51 0 1.02-.2 1.41-.59l7.78-7.78 2.81-2.81c.8-.78.8-2.07 0-2.86zM5.41 20L4 18.59l7.72-7.72 1.47 1.35L5.41 20z\"/>\n",
              "  </svg>\n",
              "      </button>\n",
              "      \n",
              "  <style>\n",
              "    .colab-df-container {\n",
              "      display:flex;\n",
              "      flex-wrap:wrap;\n",
              "      gap: 12px;\n",
              "    }\n",
              "\n",
              "    .colab-df-convert {\n",
              "      background-color: #E8F0FE;\n",
              "      border: none;\n",
              "      border-radius: 50%;\n",
              "      cursor: pointer;\n",
              "      display: none;\n",
              "      fill: #1967D2;\n",
              "      height: 32px;\n",
              "      padding: 0 0 0 0;\n",
              "      width: 32px;\n",
              "    }\n",
              "\n",
              "    .colab-df-convert:hover {\n",
              "      background-color: #E2EBFA;\n",
              "      box-shadow: 0px 1px 2px rgba(60, 64, 67, 0.3), 0px 1px 3px 1px rgba(60, 64, 67, 0.15);\n",
              "      fill: #174EA6;\n",
              "    }\n",
              "\n",
              "    [theme=dark] .colab-df-convert {\n",
              "      background-color: #3B4455;\n",
              "      fill: #D2E3FC;\n",
              "    }\n",
              "\n",
              "    [theme=dark] .colab-df-convert:hover {\n",
              "      background-color: #434B5C;\n",
              "      box-shadow: 0px 1px 3px 1px rgba(0, 0, 0, 0.15);\n",
              "      filter: drop-shadow(0px 1px 2px rgba(0, 0, 0, 0.3));\n",
              "      fill: #FFFFFF;\n",
              "    }\n",
              "  </style>\n",
              "\n",
              "      <script>\n",
              "        const buttonEl =\n",
              "          document.querySelector('#df-cdc3e1c1-bea2-4a95-a5b7-515cc3361693 button.colab-df-convert');\n",
              "        buttonEl.style.display =\n",
              "          google.colab.kernel.accessAllowed ? 'block' : 'none';\n",
              "\n",
              "        async function convertToInteractive(key) {\n",
              "          const element = document.querySelector('#df-cdc3e1c1-bea2-4a95-a5b7-515cc3361693');\n",
              "          const dataTable =\n",
              "            await google.colab.kernel.invokeFunction('convertToInteractive',\n",
              "                                                     [key], {});\n",
              "          if (!dataTable) return;\n",
              "\n",
              "          const docLinkHtml = 'Like what you see? Visit the ' +\n",
              "            '<a target=\"_blank\" href=https://colab.research.google.com/notebooks/data_table.ipynb>data table notebook</a>'\n",
              "            + ' to learn more about interactive tables.';\n",
              "          element.innerHTML = '';\n",
              "          dataTable['output_type'] = 'display_data';\n",
              "          await google.colab.output.renderOutput(dataTable, element);\n",
              "          const docLink = document.createElement('div');\n",
              "          docLink.innerHTML = docLinkHtml;\n",
              "          element.appendChild(docLink);\n",
              "        }\n",
              "      </script>\n",
              "    </div>\n",
              "  </div>\n",
              "  "
            ]
          },
          "metadata": {},
          "execution_count": 77
        }
      ]
    },
    {
      "cell_type": "markdown",
      "source": [
        "On average, females have a higher name length, higher vowel counts, and the last letter is 73% of the time a vowel. These seem to be good predictors."
      ],
      "metadata": {
        "id": "grtHsWti9P0D"
      }
    },
    {
      "cell_type": "code",
      "source": [
        "# separating features from label\n",
        "X = data.drop(columns=['name', 'gender'])\n",
        "y = data['gender']"
      ],
      "metadata": {
        "id": "JaD0ImIL9EME"
      },
      "execution_count": 78,
      "outputs": []
    },
    {
      "cell_type": "code",
      "source": [
        "# categorical and numerical columns\n",
        "categorical_cols = X.loc[:, [col for col in X.columns if 'gram' not in col]].select_dtypes(include='object').columns\n",
        "numerical_cols = X.select_dtypes(include=np.number).columns\n",
        "\n",
        "fig, ax = plt.subplots(1, 2, figsize=(20, 10))\n",
        "\n",
        "for var, subplot in zip(categorical_cols[:2], ax.flatten()):\n",
        "    sns.countplot(x=var, data=data, ax=subplot,order = list(string.ascii_lowercase))\n",
        "    # rotate labels for easy viewing\n",
        "    for label in subplot.get_xticklabels():\n",
        "        label.set_rotation(90)"
      ],
      "metadata": {
        "colab": {
          "base_uri": "https://localhost:8080/",
          "height": 623
        },
        "id": "muWYcygQ94GU",
        "outputId": "33ed4ee4-5288-4b3f-e205-d4111300b94d"
      },
      "execution_count": 79,
      "outputs": [
        {
          "output_type": "execute_result",
          "data": {
            "text/plain": [
              "<matplotlib.axes._subplots.AxesSubplot at 0x7f3778032210>"
            ]
          },
          "metadata": {},
          "execution_count": 79
        },
        {
          "output_type": "execute_result",
          "data": {
            "text/plain": [
              "<matplotlib.axes._subplots.AxesSubplot at 0x7f3778007110>"
            ]
          },
          "metadata": {},
          "execution_count": 79
        },
        {
          "output_type": "display_data",
          "data": {
            "text/plain": [
              "<Figure size 1440x720 with 2 Axes>"
            ],
            "image/png": "[encoded data removed]"
          },
          "metadata": {
            "needs_background": "light"
          }
        }
      ]
    },
    {
      "cell_type": "markdown",
      "source": [
        "Plt based on gender"
      ],
      "metadata": {
        "id": "7CTftnJxTqbG"
      }
    },
    {
      "cell_type": "code",
      "source": [
        "data_melted = pd.melt(data[['gender','first_letter','last_letter']],id_vars=['gender'])\n",
        "\n",
        "sns.catplot(x = 'value',col='gender',row='variable',kind='count',data=data_melted,\n",
        "            order = list(string.ascii_lowercase),\n",
        "            sharey = False)\n",
        "\n",
        "plt.show()"
      ],
      "metadata": {
        "colab": {
          "base_uri": "https://localhost:8080/",
          "height": 746
        },
        "id": "AC446mWPTp36",
        "outputId": "b7008645-c23b-4eda-e49b-983fb89c4362"
      },
      "execution_count": 80,
      "outputs": [
        {
          "output_type": "execute_result",
          "data": {
            "text/plain": [
              "<seaborn.axisgrid.FacetGrid at 0x7f37788f57d0>"
            ]
          },
          "metadata": {},
          "execution_count": 80
        },
        {
          "output_type": "display_data",
          "data": {
            "text/plain": [
              "<Figure size 720x720 with 4 Axes>"
            ],
            "image/png": "[encoded data removed]"
          },
          "metadata": {
            "needs_background": "light"
          }
        }
      ]
    },
    {
      "cell_type": "markdown",
      "source": [
        "Both the first and the last letter appear to be good predictors for gender."
      ],
      "metadata": {
        "id": "Hebqnz5FT8YU"
      }
    },
    {
      "cell_type": "code",
      "source": [
        "# gender exploration based on numerical columns\n",
        "fig, ax = plt.subplots(1, 4, figsize=(20, 10))\n",
        "for var, subplot in zip(numerical_cols, ax.flatten()):\n",
        "    sns.boxplot(x='gender', y=var, data=data, ax=subplot)"
      ],
      "metadata": {
        "colab": {
          "base_uri": "https://localhost:8080/",
          "height": 641
        },
        "id": "BXBNJbSjUGn7",
        "outputId": "19db6d20-8c07-4f9f-e1a1-0751c4e9f160"
      },
      "execution_count": 81,
      "outputs": [
        {
          "output_type": "execute_result",
          "data": {
            "text/plain": [
              "<matplotlib.axes._subplots.AxesSubplot at 0x7f377c7cfc10>"
            ]
          },
          "metadata": {},
          "execution_count": 81
        },
        {
          "output_type": "execute_result",
          "data": {
            "text/plain": [
              "<matplotlib.axes._subplots.AxesSubplot at 0x7f3777aee490>"
            ]
          },
          "metadata": {},
          "execution_count": 81
        },
        {
          "output_type": "execute_result",
          "data": {
            "text/plain": [
              "<matplotlib.axes._subplots.AxesSubplot at 0x7f3777aa1a50>"
            ]
          },
          "metadata": {},
          "execution_count": 81
        },
        {
          "output_type": "execute_result",
          "data": {
            "text/plain": [
              "<matplotlib.axes._subplots.AxesSubplot at 0x7f3777a64090>"
            ]
          },
          "metadata": {},
          "execution_count": 81
        },
        {
          "output_type": "display_data",
          "data": {
            "text/plain": [
              "<Figure size 1440x720 with 4 Axes>"
            ],
            "image/png": "[encoded data removed]"
          },
          "metadata": {
            "needs_background": "light"
          }
        }
      ]
    },
    {
      "cell_type": "markdown",
      "source": [
        "From the above boxplots above, syllables seem to be a good predictor. Also consonant length, count and vowel count can be ruled out of the predictors list.\n",
        "\n",
        "I will confirm these using count plots below:"
      ],
      "metadata": {
        "id": "pgUhdQKLUmGN"
      }
    },
    {
      "cell_type": "code",
      "source": [
        "data_melted = pd.melt(data[['gender','length','vowel_count','consonant_count','syllables']],id_vars=['gender'])\n",
        "\n",
        "sns.catplot(x = 'value',col='gender',row='variable',kind='count',data=data_melted,\n",
        "            sharey = False,sharex=False)\n",
        "plt.show()"
      ],
      "metadata": {
        "colab": {
          "base_uri": "https://localhost:8080/",
          "height": 1000
        },
        "id": "U2Xmy_7DVTt1",
        "outputId": "7b3acc4e-8346-45e4-b552-67027d618c29"
      },
      "execution_count": 82,
      "outputs": [
        {
          "output_type": "stream",
          "name": "stderr",
          "text": [
            "/usr/local/lib/python3.7/dist-packages/seaborn/categorical.py:3806: UserWarning: Setting `sharex=False` with `color=None` may cause different levels of the `x` variable to share colors. This will change in a future version.\n",
            "  warnings.warn(msg.format(\"sharex\", \"x\"), UserWarning)\n"
          ]
        },
        {
          "output_type": "execute_result",
          "data": {
            "text/plain": [
              "<seaborn.axisgrid.FacetGrid at 0x7f3777adb710>"
            ]
          },
          "metadata": {},
          "execution_count": 82
        },
        {
          "output_type": "display_data",
          "data": {
            "text/plain": [
              "<Figure size 720x1440 with 8 Axes>"
            ],
            "image/png": "[encoded data removed]"
          },
          "metadata": {
            "needs_background": "light"
          }
        }
      ]
    },
    {
      "cell_type": "markdown",
      "source": [
        "The previous conclusion still holds: we can exclude length, consonant count, and vowel count."
      ],
      "metadata": {
        "id": "f77Ugi5IVnEe"
      }
    },
    {
      "cell_type": "markdown",
      "source": [
        "\n",
        "## Feature generation\n",
        "\n",
        "I will apply the feature generation function below to the lists of names to create the features identified as potential gender predictors. I have removed length, vowel count and consonant count.\n",
        "\n"
      ],
      "metadata": {
        "id": "wHUbRScbYs3G"
      }
    },
    {
      "cell_type": "code",
      "source": [
        "# Feature generation function\n",
        "def gender_features(name):\n",
        "    \n",
        "    # last letter, first letter, vowel last/first letter\n",
        "    first_letter = name[0]\n",
        "    vowel_first_letter = first_letter in 'aeiou'\n",
        "    last_letter = name[-1]\n",
        "    vowel_last_letter = last_letter in 'aeiou'\n",
        "    \n",
        "    # vowels/consonants\n",
        "    vowels = \"\".join(sorted(list(set(re.sub(r'[^aeiou]', '', name)))))\n",
        "    consonants = \"\".join(sorted(list(set(re.sub(r'[aeiou]', '', name)))))\n",
        "    \n",
        "    # bigrams/trigrams\n",
        "    bigrams = (ngrams(name, 2))\n",
        "    trigrams = (ngrams(name, 3))\n",
        "    \n",
        "    # syllables\n",
        "    syllables = len(tk.tokenize(name))\n",
        "    \n",
        "    return {\n",
        "        'first_letter': first_letter,\n",
        "        'vowel_first_letter': vowel_first_letter,\n",
        "        'last_letter': last_letter,\n",
        "        'vowel_last_letter': vowel_last_letter,\n",
        "        'vowels': vowels,\n",
        "        'consonants': consonants,\n",
        "        'bigrams': bigrams,\n",
        "        'trigrams': trigrams,\n",
        "        'syllables': syllables\n",
        "    }"
      ],
      "metadata": {
        "id": "6qvxjqaxYxTV"
      },
      "execution_count": 83,
      "outputs": []
    },
    {
      "cell_type": "markdown",
      "source": [
        "### Data Preparation"
      ],
      "metadata": {
        "id": "Dn1SoSALJ0UV"
      }
    },
    {
      "cell_type": "markdown",
      "source": [
        "Training, Splitting and applying feature generation function."
      ],
      "metadata": {
        "id": "AHnKAwfqRkED"
      }
    },
    {
      "cell_type": "code",
      "source": [
        "\n",
        "# create the sets of data\n",
        "num_remaining = len(all_names) - 500\n",
        "training_and_dev_test = all_names[-num_remaining:]\n",
        "\n",
        "#Separate the training and dev test data.\n",
        "#We will call these \"dev_test1\" and \"training1\".\n",
        "\n",
        "dev_test1 = training_and_dev_test[:500]\n",
        "training1 = training_and_dev_test[500:]\n",
        "\n",
        "#Shuffle to create four additional training vs. dev-test splits.\n",
        "\n",
        "random.shuffle(training_and_dev_test)\n",
        "dev_test2 = training_and_dev_test[:500]\n",
        "training2 = training_and_dev_test[500:]\n",
        "\n",
        "random.shuffle(training_and_dev_test)\n",
        "dev_test3 = training_and_dev_test[:500]\n",
        "training3 = training_and_dev_test[500:]\n",
        "\n",
        "random.shuffle(training_and_dev_test)\n",
        "dev_test4 = training_and_dev_test[:500]\n",
        "training4 = training_and_dev_test[500:]\n",
        "\n",
        "random.shuffle(training_and_dev_test)\n",
        "dev_test5 = training_and_dev_test[:500]\n",
        "training5 = training_and_dev_test[500:]\n",
        "\n",
        "# apply feature generation function\n",
        "dev_test_features1 = [(gender_features(name), gender) for name, gender in dev_test1]\n",
        "training_features1 = [(gender_features(name), gender) for name, gender in training1]\n",
        "\n",
        "dev_test_features2 = [(gender_features(name), gender) for name, gender in dev_test2]\n",
        "training_features2 = [(gender_features(name), gender) for name, gender in training2]\n",
        "\n",
        "dev_test_features3 = [(gender_features(name), gender) for name, gender in dev_test3]\n",
        "training_features3 = [(gender_features(name), gender) for name, gender in training3]\n",
        "\n",
        "dev_test_features4 = [(gender_features(name), gender) for name, gender in dev_test4]\n",
        "training_features4 = [(gender_features(name), gender) for name, gender in training4]\n",
        "\n",
        "dev_test_features5 = [(gender_features(name), gender) for name, gender in dev_test5]\n",
        "training_features5 = [(gender_features(name), gender) for name, gender in training5]\n",
        "\n"
      ],
      "metadata": {
        "colab": {
          "base_uri": "https://localhost:8080/"
        },
        "id": "2E7_fD9FRhEV",
        "outputId": "746f22db-7489-4652-a15d-1dcd993358f3"
      },
      "execution_count": 84,
      "outputs": [
        {
          "output_type": "stream",
          "name": "stderr",
          "text": [
            "/usr/local/lib/python3.7/dist-packages/nltk/tokenize/sonority_sequencing.py:104: UserWarning: Character not defined in sonority_hierarchy, assigning as vowel: ' '\n",
            "  \" assigning as vowel: '{}'\".format(c)\n"
          ]
        }
      ]
    },
    {
      "cell_type": "markdown",
      "source": [
        "## Modelling\n",
        "\n",
        "I will use the maximum entropy model"
      ],
      "metadata": {
        "id": "fl8pTUzWKTUy"
      }
    },
    {
      "cell_type": "code",
      "source": [
        "classifier1v1 = nltk.MaxentClassifier.train(training_features1,trace=1)\n",
        "classifier2v1 = nltk.MaxentClassifier.train(training_features2,trace=1)\n",
        "classifier3v1 = nltk.MaxentClassifier.train(training_features3,trace=1)\n",
        "classifier4v1 = nltk.MaxentClassifier.train(training_features4,trace=1)\n",
        "classifier5v1 = nltk.MaxentClassifier.train(training_features5,trace=1)"
      ],
      "metadata": {
        "colab": {
          "base_uri": "https://localhost:8080/"
        },
        "id": "aB4DwnJvK_Aa",
        "outputId": "8124d544-9439-4842-e488-ca9b7440522a"
      },
      "execution_count": 85,
      "outputs": [
        {
          "output_type": "stream",
          "name": "stdout",
          "text": [
            "  ==> Training (100 iterations)\n",
            "  ==> Training (100 iterations)\n",
            "  ==> Training (100 iterations)\n",
            "  ==> Training (100 iterations)\n",
            "  ==> Training (100 iterations)\n"
          ]
        }
      ]
    },
    {
      "cell_type": "markdown",
      "source": [
        "Model accuracy on dev_test data"
      ],
      "metadata": {
        "id": "Rzbgmx_ELF9f"
      }
    },
    {
      "cell_type": "code",
      "source": [
        "nltk.classify.accuracy(classifier1v1, dev_test_features1)\n",
        "print()\n",
        "nltk.classify.accuracy(classifier2v1, dev_test_features2)\n",
        "print()\n",
        "nltk.classify.accuracy(classifier3v1, dev_test_features3)\n",
        "print()\n",
        "nltk.classify.accuracy(classifier4v1, dev_test_features4)\n",
        "print()\n",
        "nltk.classify.accuracy(classifier5v1, dev_test_features5)\n",
        "\n"
      ],
      "metadata": {
        "colab": {
          "base_uri": "https://localhost:8080/"
        },
        "id": "sHg4J_EELMrk",
        "outputId": "c2e495f1-eec5-4c94-a971-d65b14290553"
      },
      "execution_count": 86,
      "outputs": [
        {
          "output_type": "execute_result",
          "data": {
            "text/plain": [
              "0.846"
            ]
          },
          "metadata": {},
          "execution_count": 86
        },
        {
          "output_type": "stream",
          "name": "stdout",
          "text": [
            "\n"
          ]
        },
        {
          "output_type": "execute_result",
          "data": {
            "text/plain": [
              "0.838"
            ]
          },
          "metadata": {},
          "execution_count": 86
        },
        {
          "output_type": "stream",
          "name": "stdout",
          "text": [
            "\n"
          ]
        },
        {
          "output_type": "execute_result",
          "data": {
            "text/plain": [
              "0.816"
            ]
          },
          "metadata": {},
          "execution_count": 86
        },
        {
          "output_type": "stream",
          "name": "stdout",
          "text": [
            "\n"
          ]
        },
        {
          "output_type": "execute_result",
          "data": {
            "text/plain": [
              "0.834"
            ]
          },
          "metadata": {},
          "execution_count": 86
        },
        {
          "output_type": "stream",
          "name": "stdout",
          "text": [
            "\n"
          ]
        },
        {
          "output_type": "execute_result",
          "data": {
            "text/plain": [
              "0.85"
            ]
          },
          "metadata": {},
          "execution_count": 86
        }
      ]
    },
    {
      "cell_type": "markdown",
      "source": [
        "### Model Refining\n",
        "\n",
        "Accuracy can be improved by either adding new features, or removing those features that are not predictive. This can be done by first examining the errors."
      ],
      "metadata": {
        "id": "hy3v3YHAevwb"
      }
    },
    {
      "cell_type": "code",
      "source": [
        "errors = []\n",
        "\n",
        "for (name,tag) in dev_test1:\n",
        "    guess = classifier1v1.classify(gender_features(name))\n",
        "    if guess != tag:\n",
        "        errors.append((tag,guess,name))\n",
        "\n",
        "for (tag,guess,name) in sorted(errors):\n",
        "    print('correct={:<8} guess={:<8s} name={:30}'.format(tag,guess,name))"
      ],
      "metadata": {
        "colab": {
          "base_uri": "https://localhost:8080/"
        },
        "id": "mii8jf1Wg2cU",
        "outputId": "b926df7b-4f99-4e67-918a-3f55619bb914"
      },
      "execution_count": 87,
      "outputs": [
        {
          "output_type": "stream",
          "name": "stdout",
          "text": [
            "correct=female   guess=male     name=aggy                          \n",
            "correct=female   guess=male     name=aurel                         \n",
            "correct=female   guess=male     name=beatriz                       \n",
            "correct=female   guess=male     name=becky                         \n",
            "correct=female   guess=male     name=bell                          \n",
            "correct=female   guess=male     name=betteann                      \n",
            "correct=female   guess=male     name=bren                          \n",
            "correct=female   guess=male     name=brittan                       \n",
            "correct=female   guess=male     name=candis                        \n",
            "correct=female   guess=male     name=damaris                       \n",
            "correct=female   guess=male     name=darell                        \n",
            "correct=female   guess=male     name=daryn                         \n",
            "correct=female   guess=male     name=dove                          \n",
            "correct=female   guess=male     name=eryn                          \n",
            "correct=female   guess=male     name=ester                         \n",
            "correct=female   guess=male     name=greer                         \n",
            "correct=female   guess=male     name=happy                         \n",
            "correct=female   guess=male     name=hildegaard                    \n",
            "correct=female   guess=male     name=honey                         \n",
            "correct=female   guess=male     name=joannes                       \n",
            "correct=female   guess=male     name=johannah                      \n",
            "correct=female   guess=male     name=joyann                        \n",
            "correct=female   guess=male     name=myrah                         \n",
            "correct=female   guess=male     name=nitin                         \n",
            "correct=female   guess=male     name=orel                          \n",
            "correct=female   guess=male     name=rachael                       \n",
            "correct=female   guess=male     name=rosabel                       \n",
            "correct=female   guess=male     name=rozamond                      \n",
            "correct=female   guess=male     name=shamit                        \n",
            "correct=female   guess=male     name=sukey                         \n",
            "correct=female   guess=male     name=winnifred                     \n",
            "correct=female   guess=male     name=yetty                         \n",
            "correct=male     guess=female   name=alic                          \n",
            "correct=male     guess=female   name=amery                         \n",
            "correct=male     guess=female   name=andre                         \n",
            "correct=male     guess=female   name=archy                         \n",
            "correct=male     guess=female   name=barnie                        \n",
            "correct=male     guess=female   name=bentley                       \n",
            "correct=male     guess=female   name=chevy                         \n",
            "correct=male     guess=female   name=darrin                        \n",
            "correct=male     guess=female   name=dean                          \n",
            "correct=male     guess=female   name=demetre                       \n",
            "correct=male     guess=female   name=felipe                        \n",
            "correct=male     guess=female   name=gerome                        \n",
            "correct=male     guess=female   name=giuseppe                      \n",
            "correct=male     guess=female   name=glynn                         \n",
            "correct=male     guess=female   name=grady                         \n",
            "correct=male     guess=female   name=granville                     \n",
            "correct=male     guess=female   name=hersch                        \n",
            "correct=male     guess=female   name=hymie                         \n",
            "correct=male     guess=female   name=isidore                       \n",
            "correct=male     guess=female   name=jean-pierre                   \n",
            "correct=male     guess=female   name=jeffery                       \n",
            "correct=male     guess=female   name=jessee                        \n",
            "correct=male     guess=female   name=jessey                        \n",
            "correct=male     guess=female   name=kelwin                        \n",
            "correct=male     guess=female   name=manny                         \n",
            "correct=male     guess=female   name=maurits                       \n",
            "correct=male     guess=female   name=micheal                       \n",
            "correct=male     guess=female   name=moise                         \n",
            "correct=male     guess=female   name=neville                       \n",
            "correct=male     guess=female   name=nevin                         \n",
            "correct=male     guess=female   name=noe                           \n",
            "correct=male     guess=female   name=olle                          \n",
            "correct=male     guess=female   name=parsifal                      \n",
            "correct=male     guess=female   name=partha                        \n",
            "correct=male     guess=female   name=rolfe                         \n",
            "correct=male     guess=female   name=shannan                       \n",
            "correct=male     guess=female   name=sloane                        \n",
            "correct=male     guess=female   name=sly                           \n",
            "correct=male     guess=female   name=spence                        \n",
            "correct=male     guess=female   name=tarrance                      \n",
            "correct=male     guess=female   name=torre                         \n",
            "correct=male     guess=female   name=valentin                      \n",
            "correct=male     guess=female   name=vance                         \n",
            "correct=male     guess=female   name=verney                        \n",
            "correct=male     guess=female   name=zebadiah                      \n"
          ]
        }
      ]
    },
    {
      "cell_type": "markdown",
      "source": [
        "Names incorrectly guessed i.e male names guesed as females, and vice-versa"
      ],
      "metadata": {
        "id": "dAc6ndjwuax5"
      }
    },
    {
      "cell_type": "code",
      "source": [
        "actually_female_guessed_incorrectly = []\n",
        "actually_male_guessed_incorrectly = []\n",
        "\n",
        "for (tag,guess,name) in sorted(errors):\n",
        "    if tag == \"female\":\n",
        "        actually_female_guessed_incorrectly.append(name)\n",
        "    if tag == \"male\":\n",
        "        actually_male_guessed_incorrectly.append(name)\n",
        "\n",
        "print(\"First letter count errors, actually female then actually male:\")\n",
        "Counter([name[0] for name in actually_female_guessed_incorrectly])\n",
        "Counter([name[0] for name in actually_male_guessed_incorrectly])\n",
        "print(\"First letter vowel count errors:\")\n",
        "Counter([name[0] in 'aeiou' for name in actually_female_guessed_incorrectly])\n",
        "Counter([name[0] in 'aeiou' for name in actually_male_guessed_incorrectly])\n",
        "print(\"Last letter count errors:\")\n",
        "Counter([name[-1] for name in actually_female_guessed_incorrectly])\n",
        "Counter([name[-1] for name in actually_male_guessed_incorrectly])\n",
        "print(\"Last letter vowel count errors:\")\n",
        "Counter([name[-1] in 'aeiou' for name in actually_female_guessed_incorrectly])\n",
        "Counter([name[-1] in 'aeiou' for name in actually_male_guessed_incorrectly])\n",
        "print(\"List of vowels count errors:\")\n",
        "Counter([\"\".join(sorted(list(set(re.sub(r'[^aeiou]', '', name))))) for name in actually_female_guessed_incorrectly])\n",
        "Counter([\"\".join(sorted(list(set(re.sub(r'[^aeiou]', '', name))))) for name in actually_male_guessed_incorrectly])"
      ],
      "metadata": {
        "colab": {
          "base_uri": "https://localhost:8080/"
        },
        "id": "XTgLqY_Pu0uR",
        "outputId": "20427fec-89e7-4db9-f5f8-3ea7c615e89f"
      },
      "execution_count": 88,
      "outputs": [
        {
          "output_type": "stream",
          "name": "stdout",
          "text": [
            "First letter count errors, actually female then actually male:\n"
          ]
        },
        {
          "output_type": "execute_result",
          "data": {
            "text/plain": [
              "Counter({'a': 2,\n",
              "         'b': 6,\n",
              "         'c': 1,\n",
              "         'd': 4,\n",
              "         'e': 2,\n",
              "         'g': 1,\n",
              "         'h': 3,\n",
              "         'j': 3,\n",
              "         'm': 1,\n",
              "         'n': 1,\n",
              "         'o': 1,\n",
              "         'r': 3,\n",
              "         's': 2,\n",
              "         'w': 1,\n",
              "         'y': 1})"
            ]
          },
          "metadata": {},
          "execution_count": 88
        },
        {
          "output_type": "execute_result",
          "data": {
            "text/plain": [
              "Counter({'a': 4,\n",
              "         'b': 2,\n",
              "         'c': 1,\n",
              "         'd': 3,\n",
              "         'f': 1,\n",
              "         'g': 5,\n",
              "         'h': 2,\n",
              "         'i': 1,\n",
              "         'j': 4,\n",
              "         'k': 1,\n",
              "         'm': 4,\n",
              "         'n': 3,\n",
              "         'o': 1,\n",
              "         'p': 2,\n",
              "         'r': 1,\n",
              "         's': 4,\n",
              "         't': 2,\n",
              "         'v': 3,\n",
              "         'z': 1})"
            ]
          },
          "metadata": {},
          "execution_count": 88
        },
        {
          "output_type": "stream",
          "name": "stdout",
          "text": [
            "First letter vowel count errors:\n"
          ]
        },
        {
          "output_type": "execute_result",
          "data": {
            "text/plain": [
              "Counter({False: 27, True: 5})"
            ]
          },
          "metadata": {},
          "execution_count": 88
        },
        {
          "output_type": "execute_result",
          "data": {
            "text/plain": [
              "Counter({False: 39, True: 6})"
            ]
          },
          "metadata": {},
          "execution_count": 88
        },
        {
          "output_type": "stream",
          "name": "stdout",
          "text": [
            "Last letter count errors:\n"
          ]
        },
        {
          "output_type": "execute_result",
          "data": {
            "text/plain": [
              "Counter({'d': 3,\n",
              "         'e': 1,\n",
              "         'h': 2,\n",
              "         'l': 6,\n",
              "         'n': 7,\n",
              "         'r': 2,\n",
              "         's': 3,\n",
              "         't': 1,\n",
              "         'y': 6,\n",
              "         'z': 1})"
            ]
          },
          "metadata": {},
          "execution_count": 88
        },
        {
          "output_type": "execute_result",
          "data": {
            "text/plain": [
              "Counter({'a': 1, 'c': 1, 'e': 21, 'h': 2, 'l': 2, 'n': 7, 's': 1, 'y': 10})"
            ]
          },
          "metadata": {},
          "execution_count": 88
        },
        {
          "output_type": "stream",
          "name": "stdout",
          "text": [
            "Last letter vowel count errors:\n"
          ]
        },
        {
          "output_type": "execute_result",
          "data": {
            "text/plain": [
              "Counter({False: 31, True: 1})"
            ]
          },
          "metadata": {},
          "execution_count": 88
        },
        {
          "output_type": "execute_result",
          "data": {
            "text/plain": [
              "Counter({False: 23, True: 22})"
            ]
          },
          "metadata": {},
          "execution_count": 88
        },
        {
          "output_type": "stream",
          "name": "stdout",
          "text": [
            "List of vowels count errors:\n"
          ]
        },
        {
          "output_type": "execute_result",
          "data": {
            "text/plain": [
              "Counter({'a': 4,\n",
              "         'ae': 3,\n",
              "         'aei': 2,\n",
              "         'aeo': 2,\n",
              "         'aeu': 1,\n",
              "         'ai': 4,\n",
              "         'ao': 3,\n",
              "         'e': 7,\n",
              "         'ei': 1,\n",
              "         'eo': 3,\n",
              "         'eu': 1,\n",
              "         'i': 1})"
            ]
          },
          "metadata": {},
          "execution_count": 88
        },
        {
          "output_type": "execute_result",
          "data": {
            "text/plain": [
              "Counter({'': 2,\n",
              "         'a': 5,\n",
              "         'ae': 5,\n",
              "         'aei': 6,\n",
              "         'aeo': 1,\n",
              "         'ai': 3,\n",
              "         'aiu': 1,\n",
              "         'e': 9,\n",
              "         'ei': 5,\n",
              "         'eio': 2,\n",
              "         'eiu': 1,\n",
              "         'eo': 5})"
            ]
          },
          "metadata": {},
          "execution_count": 88
        }
      ]
    },
    {
      "cell_type": "markdown",
      "source": [
        "It appears incorrectly guessed male names often end in \"e\". These seem to likely contain an \"a\" and or \"e\". Lets check for these names in males vs females in the raining data"
      ],
      "metadata": {
        "id": "6BmNOI-Ivug3"
      }
    },
    {
      "cell_type": "code",
      "source": [
        "def vowels(name):\n",
        "    return \"\".join(sorted(list(set(re.sub(r'[^aeiou]', '', name)))))\n",
        "\n",
        "Counter([list(name).count('a') >= 1 for name,tag in training1 if tag == \"female\"])\n",
        "print()\n",
        "Counter([list(name).count('a') >= 1 for name,tag in training1 if tag == \"male\"])\n",
        "print()\n",
        "Counter([list(name).count('e') >= 1 for name,tag in training1 if tag == \"female\"])\n",
        "print()\n",
        "Counter([list(name).count('e') >= 1 for name,tag in training1 if tag == \"male\"])"
      ],
      "metadata": {
        "colab": {
          "base_uri": "https://localhost:8080/"
        },
        "id": "VPE_Gh9wwPp5",
        "outputId": "bf3b7d7d-9225-4383-a7a4-9220c87c3a54"
      },
      "execution_count": 89,
      "outputs": [
        {
          "output_type": "execute_result",
          "data": {
            "text/plain": [
              "Counter({False: 1230, True: 2758})"
            ]
          },
          "metadata": {},
          "execution_count": 89
        },
        {
          "output_type": "stream",
          "name": "stdout",
          "text": [
            "\n"
          ]
        },
        {
          "output_type": "execute_result",
          "data": {
            "text/plain": [
              "Counter({False: 1100, True: 1126})"
            ]
          },
          "metadata": {},
          "execution_count": 89
        },
        {
          "output_type": "stream",
          "name": "stdout",
          "text": [
            "\n"
          ]
        },
        {
          "output_type": "execute_result",
          "data": {
            "text/plain": [
              "Counter({False: 1555, True: 2433})"
            ]
          },
          "metadata": {},
          "execution_count": 89
        },
        {
          "output_type": "stream",
          "name": "stdout",
          "text": [
            "\n"
          ]
        },
        {
          "output_type": "execute_result",
          "data": {
            "text/plain": [
              "Counter({False: 1031, True: 1195})"
            ]
          },
          "metadata": {},
          "execution_count": 89
        }
      ]
    },
    {
      "cell_type": "markdown",
      "source": [
        "Females have higher chance of having an 'a' and/or an 'e' in their name; this might be the reason why males with these vowels in their name are guessed as females. Just like in the textbook, I will add a second suffix to srr if the accuracy of the model improves."
      ],
      "metadata": {
        "id": "iVMRMw3kw0Jr"
      }
    },
    {
      "cell_type": "code",
      "source": [
        "def gender_features(name):\n",
        "    \n",
        "    # last letter, first letter, vowel last/first letter\n",
        "    first_letter = name[0]\n",
        "    vowel_first_letter = first_letter in 'aeiou'\n",
        "    last_letter = name[-1]\n",
        "    last_two_letters = name[-2:]\n",
        "    vowel_last_letter = last_letter in 'aeiou'\n",
        "    \n",
        "    # vowels/consonants\n",
        "    vowels = \"\".join(sorted(list(set(re.sub(r'[^aeiou]', '', name)))))\n",
        "    consonants = \"\".join(sorted(list(set(re.sub(r'[aeiou]', '', name)))))\n",
        "    \n",
        "    # bigrams/trigrams\n",
        "    bigrams = (ngrams(name, 2))\n",
        "    trigrams = (ngrams(name, 3))\n",
        "    \n",
        "    # syllables\n",
        "    syllables = len(tk.tokenize(name))\n",
        "    \n",
        "    return {\n",
        "        'first_letter': first_letter,\n",
        "        'vowel_first_letter': vowel_first_letter,\n",
        "        'last_letter': last_letter,\n",
        "        'last_two_letters': last_two_letters,\n",
        "        'vowel_last_letter': vowel_last_letter,\n",
        "        'vowels': vowels,\n",
        "        'consonants': consonants,\n",
        "        'bigrams': bigrams,\n",
        "        'trigrams': trigrams,\n",
        "        'syllables': syllables\n",
        "    }\n",
        "\n",
        "dev_test_features1 = [(gender_features(name), gender) for name, gender in dev_test1]\n",
        "training_features1 = [(gender_features(name), gender) for name, gender in training1]\n",
        "\n",
        "dev_test_features2 = [(gender_features(name), gender) for name, gender in dev_test2]\n",
        "training_features2 = [(gender_features(name), gender) for name, gender in training2]\n",
        "\n",
        "dev_test_features3 = [(gender_features(name), gender) for name, gender in dev_test3]\n",
        "training_features3 = [(gender_features(name), gender) for name, gender in training3]\n",
        "\n",
        "dev_test_features4 = [(gender_features(name), gender) for name, gender in dev_test4]\n",
        "training_features4 = [(gender_features(name), gender) for name, gender in training4]\n",
        "\n",
        "dev_test_features5 = [(gender_features(name), gender) for name, gender in dev_test5]\n",
        "training_features5 = [(gender_features(name), gender) for name, gender in training5]\n",
        "\n"
      ],
      "metadata": {
        "colab": {
          "base_uri": "https://localhost:8080/"
        },
        "id": "DhT79kjsy4CO",
        "outputId": "a806730c-1e3a-47db-a322-704cd0caedfb"
      },
      "execution_count": 90,
      "outputs": [
        {
          "output_type": "stream",
          "name": "stderr",
          "text": [
            "/usr/local/lib/python3.7/dist-packages/nltk/tokenize/sonority_sequencing.py:104: UserWarning: Character not defined in sonority_hierarchy, assigning as vowel: ' '\n",
            "  \" assigning as vowel: '{}'\".format(c)\n"
          ]
        }
      ]
    },
    {
      "cell_type": "markdown",
      "source": [
        "Accuracy"
      ],
      "metadata": {
        "id": "1hzI7xCxzEWu"
      }
    },
    {
      "cell_type": "code",
      "source": [
        "classifier1v2 = nltk.MaxentClassifier.train(training_features1,trace=1)\n",
        "classifier2v2 = nltk.MaxentClassifier.train(training_features2,trace=1)\n",
        "classifier3v2 = nltk.MaxentClassifier.train(training_features3,trace=1)\n",
        "classifier4v2 = nltk.MaxentClassifier.train(training_features4,trace=1)\n",
        "classifier5v2 = nltk.MaxentClassifier.train(training_features5,trace=1)\n",
        "\n",
        "nltk.classify.accuracy(classifier1v2, dev_test_features1)\n",
        "print()\n",
        "nltk.classify.accuracy(classifier2v2, dev_test_features2)\n",
        "print()\n",
        "nltk.classify.accuracy(classifier3v2, dev_test_features3)\n",
        "print()\n",
        "nltk.classify.accuracy(classifier4v2, dev_test_features4)\n",
        "print()\n",
        "nltk.classify.accuracy(classifier5v2, dev_test_features5)\n",
        "\n"
      ],
      "metadata": {
        "colab": {
          "base_uri": "https://localhost:8080/"
        },
        "id": "bo6g_6I5zF7X",
        "outputId": "d62a89dd-f502-4f27-b6fd-c3eae23ae695"
      },
      "execution_count": 91,
      "outputs": [
        {
          "output_type": "stream",
          "name": "stdout",
          "text": [
            "  ==> Training (100 iterations)\n",
            "  ==> Training (100 iterations)\n",
            "  ==> Training (100 iterations)\n",
            "  ==> Training (100 iterations)\n",
            "  ==> Training (100 iterations)\n"
          ]
        },
        {
          "output_type": "execute_result",
          "data": {
            "text/plain": [
              "0.848"
            ]
          },
          "metadata": {},
          "execution_count": 91
        },
        {
          "output_type": "stream",
          "name": "stdout",
          "text": [
            "\n"
          ]
        },
        {
          "output_type": "execute_result",
          "data": {
            "text/plain": [
              "0.84"
            ]
          },
          "metadata": {},
          "execution_count": 91
        },
        {
          "output_type": "stream",
          "name": "stdout",
          "text": [
            "\n"
          ]
        },
        {
          "output_type": "execute_result",
          "data": {
            "text/plain": [
              "0.842"
            ]
          },
          "metadata": {},
          "execution_count": 91
        },
        {
          "output_type": "stream",
          "name": "stdout",
          "text": [
            "\n"
          ]
        },
        {
          "output_type": "execute_result",
          "data": {
            "text/plain": [
              "0.834"
            ]
          },
          "metadata": {},
          "execution_count": 91
        },
        {
          "output_type": "stream",
          "name": "stdout",
          "text": [
            "\n"
          ]
        },
        {
          "output_type": "execute_result",
          "data": {
            "text/plain": [
              "0.856"
            ]
          },
          "metadata": {},
          "execution_count": 91
        }
      ]
    },
    {
      "cell_type": "markdown",
      "source": [
        "There is accuracy improvement in some cases"
      ],
      "metadata": {
        "id": "zNtYJ5cpzSnl"
      }
    },
    {
      "cell_type": "markdown",
      "source": [
        "## Model Evaluation\n",
        "\n",
        "### Accuracy\n",
        "\n",
        "Accuracy of the model based on the final test data including all the initially chosen variables."
      ],
      "metadata": {
        "id": "mJBCFDlez-SV"
      }
    },
    {
      "cell_type": "code",
      "source": [
        "def gender_features(name):\n",
        "    \n",
        "    # last letter, first letter, vowel last/first letter\n",
        "    first_letter = name[0]\n",
        "    vowel_first_letter = first_letter in 'aeiou'\n",
        "    last_letter = name[-1]\n",
        "    vowel_last_letter = last_letter in 'aeiou'\n",
        "    \n",
        "    # vowels/consonants\n",
        "    vowels = \"\".join(sorted(list(set(re.sub(r'[^aeiou]', '', name)))))\n",
        "    consonants = \"\".join(sorted(list(set(re.sub(r'[aeiou]', '', name)))))\n",
        "    \n",
        "    # bigrams/trigrams\n",
        "    bigrams = (ngrams(name, 2))\n",
        "    trigrams = (ngrams(name, 3))\n",
        "    \n",
        "    # syllables\n",
        "    syllables = len(tk.tokenize(name))\n",
        "    \n",
        "    return {\n",
        "        'first_letter': first_letter,\n",
        "        'vowel_first_letter': vowel_first_letter,\n",
        "        'last_letter': last_letter,\n",
        "        'vowel_last_letter': vowel_last_letter,\n",
        "        'vowels': vowels,\n",
        "        'consonants': consonants,\n",
        "        'bigrams': bigrams,\n",
        "        'trigrams': trigrams,\n",
        "        'syllables': syllables\n",
        "    }\n",
        "\n",
        "final_test_features = [(gender_features(name), gender) for name, gender in final_test]\n",
        "\n",
        "nltk.classify.accuracy(classifier1v1, final_test_features)\n",
        "print()\n",
        "nltk.classify.accuracy(classifier2v1, final_test_features)\n",
        "print()\n",
        "nltk.classify.accuracy(classifier3v1, final_test_features)\n",
        "print()\n",
        "nltk.classify.accuracy(classifier4v1, final_test_features)\n",
        "print()\n",
        "nltk.classify.accuracy(classifier5v1, final_test_features)"
      ],
      "metadata": {
        "colab": {
          "base_uri": "https://localhost:8080/"
        },
        "id": "jz4tJNUX2d9A",
        "outputId": "108999b3-b640-4cb0-bf82-6cbae893e2ea"
      },
      "execution_count": 92,
      "outputs": [
        {
          "output_type": "execute_result",
          "data": {
            "text/plain": [
              "0.806"
            ]
          },
          "metadata": {},
          "execution_count": 92
        },
        {
          "output_type": "stream",
          "name": "stdout",
          "text": [
            "\n"
          ]
        },
        {
          "output_type": "execute_result",
          "data": {
            "text/plain": [
              "0.802"
            ]
          },
          "metadata": {},
          "execution_count": 92
        },
        {
          "output_type": "stream",
          "name": "stdout",
          "text": [
            "\n"
          ]
        },
        {
          "output_type": "execute_result",
          "data": {
            "text/plain": [
              "0.798"
            ]
          },
          "metadata": {},
          "execution_count": 92
        },
        {
          "output_type": "stream",
          "name": "stdout",
          "text": [
            "\n"
          ]
        },
        {
          "output_type": "execute_result",
          "data": {
            "text/plain": [
              "0.8"
            ]
          },
          "metadata": {},
          "execution_count": 92
        },
        {
          "output_type": "stream",
          "name": "stdout",
          "text": [
            "\n"
          ]
        },
        {
          "output_type": "execute_result",
          "data": {
            "text/plain": [
              "0.81"
            ]
          },
          "metadata": {},
          "execution_count": 92
        }
      ]
    },
    {
      "cell_type": "markdown",
      "source": [
        "Accuracy ranges from 79.8 - 81% on the final test data using all features"
      ],
      "metadata": {
        "id": "X33czNLe5EWp"
      }
    }
  ]
}