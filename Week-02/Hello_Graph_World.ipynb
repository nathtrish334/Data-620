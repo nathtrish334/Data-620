{
 "cells": [
  {
   "cell_type": "code",
   "execution_count": 7,
   "id": "cdc461a3",
   "metadata": {},
   "outputs": [],
   "source": [
    "%matplotlib inline\n",
    "import networkx as nx\n",
    "import matplotlib.pyplot as plt"
   ]
  },
  {
   "cell_type": "code",
   "execution_count": 8,
   "id": "636c35fa",
   "metadata": {},
   "outputs": [],
   "source": [
    "# Graph G for Krackhardt kite\n",
    "G = nx.Graph()"
   ]
  },
  {
   "cell_type": "code",
   "execution_count": 9,
   "id": "c6eda07b",
   "metadata": {},
   "outputs": [],
   "source": [
    "# Nodes with positions\n",
    "G.add_node('Carol', pos = (2, 5))\n",
    "G.add_node('Andre', pos = (1, 4))\n",
    "G.add_node('Fernando', pos = (3, 4))\n",
    "G.add_node('Diane', pos = (2, 3))\n",
    "G.add_node('Beverly', pos = (1, 2))\n",
    "G.add_node('Garth', pos = (3, 2))\n",
    "G.add_node('Ed', pos = (2, 1))\n",
    "G.add_node('Heather', pos = (4, 3))\n",
    "G.add_node('Ike', pos = (5, 3))\n",
    "G.add_node('Jane', pos = (6, 3))"
   ]
  },
  {
   "cell_type": "code",
   "execution_count": 10,
   "id": "e20f3264",
   "metadata": {},
   "outputs": [],
   "source": [
    "# Edges\n",
    "G.add_edges_from([  ('Carol', 'Andre'), ('Carol', 'Fernando'), ('Carol', 'Ed'),\n",
    "                    ('Andre', 'Fernando'), ('Andre', 'Diane'), ('Andre', 'Beverly'),\n",
    "                    ('Beverly', 'Diane'), ('Beverly', 'Garth'), ('Beverly', 'Ed'),\n",
    "                    ('Fernando', 'Diane'), ('Fernando', 'Heather'), ('Fernando', 'Garth'),\n",
    "                    ('Garth', 'Diane'), ('Garth', 'Heather'), ('Garth', 'Ed'),\n",
    "                    ('Ed', 'Diane'), ('Ike', 'Heather'), ('Ike', 'Jane')\n",
    "                ])"
   ]
  },
  {
   "cell_type": "code",
   "execution_count": 11,
   "id": "3dc66aa3",
   "metadata": {},
   "outputs": [],
   "source": [
    "# Positions of nodes in graph G\n",
    "pos = nx.get_node_attributes(G, 'pos')"
   ]
  },
  {
   "cell_type": "code",
   "execution_count": 12,
   "id": "43e29e02",
   "metadata": {},
   "outputs": [
    {
     "data": {
      "image/png": "[encoded data removed]",
      "text/plain": [
       "<Figure size 432x288 with 1 Axes>"
      ]
     },
     "metadata": {},
     "output_type": "display_data"
    }
   ],
   "source": [
    "# Draw graph nodes and edges at specified positions\n",
    "nx.draw(G, pos, with_labels = True)\n",
    "plt.show()"
   ]
  },
  {
   "cell_type": "code",
   "execution_count": null,
   "id": "9cccd40a",
   "metadata": {},
   "outputs": [],
   "source": []
  }
 ],
 "metadata": {
  "kernelspec": {
   "display_name": "Python 3 (ipykernel)",
   "language": "python",
   "name": "python3"
  },
  "language_info": {
   "codemirror_mode": {
    "name": "ipython",
    "version": 3
   },
   "file_extension": ".py",
   "mimetype": "text/x-python",
   "name": "python",
   "nbconvert_exporter": "python",
   "pygments_lexer": "ipython3",
   "version": "3.9.7"
  }
 },
 "nbformat": 4,
 "nbformat_minor": 5
}
