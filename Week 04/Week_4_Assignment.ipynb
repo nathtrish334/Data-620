{
 "cells": [
  {
   "cell_type": "markdown",
   "metadata": {
    "id": "3DTMKHVwe0Vn"
   },
   "source": [
    "<h1>Week 4 - Centrality Measures</h1>"
   ]
  },
  {
   "cell_type": "markdown",
   "metadata": {
    "id": "jMCxSTUAe3Be"
   },
   "source": [
    "Centrality measures can be used to predict (positive or negative) outcomes for a node.\n",
    "\n",
    "Your task in this week’s assignment is to identify an interesting set of network data that is available on the web (either through web scraping or web APIs) that could be used for analyzing and comparing centrality measures across nodes.  As an additional constraint, there should be at least one categorical variable available for each node (such as “Male” or “Female”; “Republican”, “Democrat,” or “Undecided”, etc.)\n",
    "\n",
    "In addition to identifying your data source, you should create a high level plan that describes how you would load the data for analysis, and describe a hypothetical outcome that could be predicted from comparing degree centrality across categorical groups. "
   ]
  },
  {
   "cell_type": "markdown",
   "metadata": {
    "id": "ofKeaowgk-uT"
   },
   "source": [
    "<h2>Network Data</h2>"
   ]
  },
  {
   "cell_type": "markdown",
   "metadata": {
    "id": "Hw38MX9KlBk_"
   },
   "source": [
    "I will select network data from [OpenFlights](https://openflights.org/data.html)\n",
    "\n",
    "Openflights is *a tool that lets you map your flights around the world, search and filter them in all sorts of interesting ways, calculate statistics automatically, and share the resulting maps with friends and the world. You can also check airport route maps for nearly every airport in the world and find out what airlines fly where.*\n",
    "\n",
    "I will use the *Routes* and *Airports* datasets to build our network.\n",
    "\n",
    "Data is saved as .DAT files which are UTF-8 encoded."
   ]
  },
  {
   "cell_type": "markdown",
   "metadata": {
    "id": "eZ8Py0FFnS0T"
   },
   "source": [
    "OpenFlights datasets include:\n",
    "*   [Airports](https://raw.githubusercontent.com/jpatokal/openflights/master/data/airports.dat)\n",
    "*   [Airports-extended](https://raw.githubusercontent.com/jpatokal/openflights/master/data/airports-extended.dat)\n",
    "*   [Airlines](https://raw.githubusercontent.com/jpatokal/openflights/master/data/airlines.dat)\n",
    "*   [Routes](https://raw.githubusercontent.com/jpatokal/openflights/master/data/routes.dat)\n",
    "*   [Planes](https://raw.githubusercontent.com/jpatokal/openflights/master/data/planes.dat)\n",
    "*   [Countries](https://raw.githubusercontent.com/jpatokal/openflights/master/data/countries.dat)\n",
    "\n",
    "\n"
   ]
  },
  {
   "cell_type": "markdown",
   "metadata": {
    "id": "0dUp3B1cxnoW"
   },
   "source": [
    "**Variables**\n",
    "\n",
    "**Airports Dataset**\n",
    "*   Airport ID\n",
    "*   Name\n",
    "*   City\n",
    "*   Country\n",
    "*   IATA\n",
    "*   ICAO\n",
    "*   Latitude\n",
    "*   Longtitude\n",
    "*   Altitude\n",
    "*   Timezone\n",
    "*   DST\n",
    "*   Tz database time zone\n",
    "*   Type\n",
    "*   Source\n",
    "\n",
    "**Routes dataset**\n",
    "\n",
    "*   Airline\n",
    "*   Airline ID\n",
    "*   Source Airport\n",
    "*   Source Airport ID\n",
    "*   Destination Airport\n",
    "*   Destination Airport ID\n",
    "*   Codeshare\n",
    "*   Stops\n",
    "*   Equipment\n",
    "\n",
    "\n",
    "\n"
   ]
  },
  {
   "cell_type": "markdown",
   "metadata": {
    "id": "eXN1G8X732PO"
   },
   "source": [
    "I will take the nodes from the *Source Airport* and *Destination Airport* variables in the **Routes dataset**.  A node is represented by each record with a source and destination airport. The Stops variable could be used as an optional edge weight."
   ]
  },
  {
   "cell_type": "markdown",
   "metadata": {
    "id": "kAsX67Kf7QrF"
   },
   "source": [
    "<h2>Categorical Variable</h2>\n",
    "\n",
    "In my case the categorical variable is going to be *N_S_Hemisphere* from the Latitude variable in the Airports dataset. A node with a Negative latitude will be denoted by **S** for \"South\", and a positive latitude will be denoted by **N** for \"North\"."
   ]
  },
  {
   "cell_type": "markdown",
   "metadata": {
    "id": "hjzl766JxX-M"
   },
   "source": [
    "<h2>Centrality Measures</h2>\n",
    "*   Degree Centrality -- how many direct, ‘one hop’ connections each node has to other nodes within the network\n",
    "*   Betweenness Centrality -- which nodes act as ‘bridges’ between nodes in a network\n",
    "*   Closeness Centrality -- calculates the shortest paths between all nodes, then assigns each node a score based on its sum of shortest paths\n",
    "*   EigenCentrality -- by calculating the extended connections of a node, EigenCentrality can identify nodes with influence over the whole network, not just those directly connected to it\n",
    "*   PageRank -- uncovers nodes whose influence extends beyond their direct connections into the wider network\n",
    "\n",
    "\n"
   ]
  },
  {
   "cell_type": "markdown",
   "metadata": {},
   "source": [
    "**Loading the Data**\n",
    "\n",
    "I will download the .dat files from OpenFlights.org. I will then load the datasets into data into Pandas dataframes where I will import the variables needed for analysis of the N_S_Hemisphere categorical variable.\n",
    "I will write the reformatted and joined data file to a edges file that can then be imported using NetworkX to create, analyze and visualize the network.\n",
    "\n",
    "\n",
    "**Hypothetical Outcome**\n",
    "\n",
    "I expect Northern airports to have a greater number of airports that score higher in Degree Centrality, Betweenness and Closeness since those regions are more centralized, interconnected, and have more direct flights.\n"
   ]
  },
  {
   "cell_type": "code",
   "execution_count": null,
   "metadata": {},
   "outputs": [],
   "source": []
  }
 ],
 "metadata": {
  "colab": {
   "collapsed_sections": [],
   "name": "Week_4_Assignment.ipynb",
   "provenance": []
  },
  "kernelspec": {
   "display_name": "Python 3 (ipykernel)",
   "language": "python",
   "name": "python3"
  },
  "language_info": {
   "codemirror_mode": {
    "name": "ipython",
    "version": 3
   },
   "file_extension": ".py",
   "mimetype": "text/x-python",
   "name": "python",
   "nbconvert_exporter": "python",
   "pygments_lexer": "ipython3",
   "version": "3.9.7"
  }
 },
 "nbformat": 4,
 "nbformat_minor": 1
}
